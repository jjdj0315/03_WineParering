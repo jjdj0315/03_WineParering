{
 "cells": [
  {
   "cell_type": "code",
   "execution_count": 2,
   "id": "d300ecd3",
   "metadata": {},
   "outputs": [],
   "source": [
    "# backend\n",
    "import os\n",
    "\n",
    "from langchain_openai import ChatOpenAI\n",
    "from dotenv import load_dotenv\n",
    "\n",
    "from langchain_core.prompts import ChatPromptTemplate\n",
    "from langchain_core.prompts.chat import HumanMessagePromptTemplate\n",
    "from langchain_core.output_parsers import StrOutputParser\n",
    "from langchain_core.runnables import RunnableLambda\n",
    "\n",
    "llm = ChatOpenAI(\n",
    "    model=\"gpt-4o\",\n",
    "    temperature=0,\n",
    "    api_key=os.getenv(\"OPENAI_API_KEY\"),\n",
    "    max_tokens=4096,\n",
    ")"
   ]
  },
  {
   "cell_type": "code",
   "execution_count": 3,
   "id": "ecc17e7d",
   "metadata": {},
   "outputs": [
    {
     "data": {
      "text/plain": [
       "AIMessage(content='안녕하세요! 어떻게 도와드릴까요?', additional_kwargs={'refusal': None}, response_metadata={'token_usage': {'completion_tokens': 10, 'prompt_tokens': 9, 'total_tokens': 19, 'completion_tokens_details': {'accepted_prediction_tokens': 0, 'audio_tokens': 0, 'reasoning_tokens': 0, 'rejected_prediction_tokens': 0}, 'prompt_tokens_details': {'audio_tokens': 0, 'cached_tokens': 0}}, 'model_name': 'gpt-4o-2024-08-06', 'system_fingerprint': 'fp_f5bdcc3276', 'id': 'chatcmpl-BYOZhVLGZRqh1RVJHS0SlXKPb6Cdo', 'service_tier': 'default', 'finish_reason': 'stop', 'logprobs': None}, id='run--8a51e014-71ed-4275-9a26-4bda847f40f0-0', usage_metadata={'input_tokens': 9, 'output_tokens': 10, 'total_tokens': 19, 'input_token_details': {'audio': 0, 'cache_read': 0}, 'output_token_details': {'audio': 0, 'reasoning': 0}})"
      ]
     },
     "execution_count": 3,
     "metadata": {},
     "output_type": "execute_result"
    }
   ],
   "source": [
    "llm.invoke(\"안녕\")"
   ]
  },
  {
   "cell_type": "code",
   "execution_count": 8,
   "id": "1b93f38d",
   "metadata": {},
   "outputs": [],
   "source": [
    "def recommend_food(x):\n",
    "    prompt = ChatPromptTemplate.from_messages(\n",
    "        [\n",
    "            (\n",
    "                \"system\",\n",
    "                \"\"\"\n",
    "You are ChatGPT, a professional sommelier who has gone through a rigorous training process step by step, driven by a deep curiosity about wine. You possess a keen sense of smell, a keen sense of exploration, and an awareness of the many details in wine.\n",
    "\n",
    "Your task is to accurately identify the wine in question and recommend an appropriate food pairing based on the provided wine reviews in triple quotes. 대답은 한글로 해줘\n",
    "\n",
    "### Task Instructions:\n",
    "\n",
    "1. **Review Analysis**:\n",
    "- Carefully read the wine review provided within triple quotes.\n",
    "- Identify key characteristics of the wine, including aroma, flavor, tannin structure, acidity, body, and finish.\n",
    "\n",
    "2. **Wine Identification**:\n",
    "- Based on the identified characteristics, determine the specific type of wine, its possible grape variety, region of origin, and vintage if possible.\n",
    "- Consider elements such as fruit notes (e.g., cherry, blackberry), non-fruit notes (e.g., oak, vanilla), and structural components (e.g., tannins, acidity).\n",
    "\n",
    "3. **Pairing Recommendation**:\n",
    "- Recommend an appropriate food pairing that complements the identified wine.\n",
    "- Take into account the wine’s characteristics (e.g., a full-bodied red wine with high tannins pairs well with rich, fatty meats).\n",
    "- Suggest alternative pairings such as cheese, desserts, or even specific dishes that enhance the wine's profile.\n",
    "    \"\"\",\n",
    "            ),\n",
    "            (\"human\", \"{query}\")\n",
    "        ]\n",
    "    )\n",
    "    print(x['query'])\n",
    "    chain = prompt | llm | StrOutputParser()\n",
    "    return chain.invoke(x)\n",
    "\n",
    "\n",
    "# def taste_food_chain():\n",
    "#     prompt = ChatPromptTemplate.from_messages([\n",
    "#         (\n",
    "#             \"system\",\n",
    "#             \"\"\"When provided with an input question, please identify the dish in question and describe what it tastes like. 한글로 말해줘\"\"\"\n",
    "#         ),\n",
    "#         (\"human\", \"{query}\")\n",
    "#     ])\n",
    "#     return prompt | llm | StrOutputParser()"
   ]
  },
  {
   "cell_type": "code",
   "execution_count": 9,
   "id": "db517361",
   "metadata": {},
   "outputs": [
    {
     "name": "stdout",
     "output_type": "stream",
     "text": [
      "김치\n"
     ]
    },
    {
     "data": {
      "text/plain": [
       "'김치는 발효된 배추와 다양한 양념으로 만들어진 한국의 전통 음식으로, 그 자체로도 훌륭한 맛을 자랑하지만 와인과의 페어링도 가능합니다. 김치의 매콤하고 발효된 맛은 특정 와인과 잘 어울릴 수 있습니다. \\n\\n김치와 잘 어울리는 와인은 일반적으로 산미가 좋고 과일 향이 풍부한 와인입니다. 예를 들어, 독일의 리슬링(Riesling) 와인은 김치의 매운맛과 발효된 맛을 잘 중화시켜주며, 과일 향이 김치의 복합적인 맛을 보완해줍니다. 리슬링은 특히 약간의 단맛이 있는 경우, 김치의 매운맛을 부드럽게 해주는 역할을 합니다.\\n\\n또한, 스파클링 와인도 좋은 선택이 될 수 있습니다. 스파클링 와인의 청량감과 산미는 김치의 강한 맛을 상쾌하게 해주며, 입안을 깔끔하게 정리해줍니다. \\n\\n따라서, 김치와 함께 즐기기 좋은 와인으로는 독일 리슬링이나 스파클링 와인을 추천드립니다.'"
      ]
     },
     "execution_count": 9,
     "metadata": {},
     "output_type": "execute_result"
    }
   ],
   "source": [
    "recommend_food({\"query\" : \"김치\"})"
   ]
  },
  {
   "cell_type": "code",
   "execution_count": null,
   "id": "6d697bbf",
   "metadata": {},
   "outputs": [],
   "source": []
  }
 ],
 "metadata": {
  "kernelspec": {
   "display_name": "venv",
   "language": "python",
   "name": "python3"
  },
  "language_info": {
   "codemirror_mode": {
    "name": "ipython",
    "version": 3
   },
   "file_extension": ".py",
   "mimetype": "text/x-python",
   "name": "python",
   "nbconvert_exporter": "python",
   "pygments_lexer": "ipython3",
   "version": "3.11.9"
  }
 },
 "nbformat": 4,
 "nbformat_minor": 5
}
