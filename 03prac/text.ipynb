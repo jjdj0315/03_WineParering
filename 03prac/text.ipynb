{
 "cells": [
  {
   "cell_type": "code",
   "execution_count": 59,
   "id": "ea34278b",
   "metadata": {},
   "outputs": [],
   "source": [
    "# backend\n",
    "import os\n",
    "\n",
    "from langchain_openai import ChatOpenAI\n",
    "from dotenv import load_dotenv\n",
    "\n",
    "from langchain_core.prompts import ChatPromptTemplate\n",
    "from langchain_core.prompts.chat import HumanMessagePromptTemplate\n",
    "from langchain_core.output_parsers import StrOutputParser\n",
    "from langchain_core.runnables import RunnableLambda"
   ]
  },
  {
   "cell_type": "code",
   "execution_count": 61,
   "id": "2904d842",
   "metadata": {},
   "outputs": [],
   "source": [
    "llm = ChatOpenAI(\n",
    "    model=\"gpt-4o\",\n",
    "    temperature=0,\n",
    "    api_key=os.getenv(\"OPENAI_API_KEY\"),\n",
    "    max_tokens=4096,\n",
    ")"
   ]
  },
  {
   "cell_type": "code",
   "execution_count": 3,
   "id": "7c6b2f65",
   "metadata": {},
   "outputs": [],
   "source": [
    "import os\n",
    "\n",
    "from langchain_openai import ChatOpenAI\n",
    "from dotenv import load_dotenv\n",
    "\n",
    "from langchain_core.prompts import ChatPromptTemplate\n",
    "from langchain_core.prompts.chat import HumanMessagePromptTemplate\n",
    "from langchain_core.output_parsers import StrOutputParser\n",
    "from langchain_core.runnables import RunnableLambda\n",
    "\n",
    "\n",
    "load_dotenv()\n",
    "\n",
    "llm = ChatOpenAI(\n",
    "    model=\"gpt-4o\",\n",
    "    temperature=0,\n",
    "    api_key=os.getenv('OPENAI_API_KEY'),\n",
    "    max_tokens=4096,\n",
    ")\n",
    "\n",
    "\n",
    "def taste_food(x):\n",
    "    prompt = ChatPromptTemplate.from_messages([\n",
    "        (\"system\", \"\"\"When provided with an input question, please identify the dish in question and describe what it tastes like.\"\"\"),\n",
    "    ])\n",
    "\n",
    "    template = []\n",
    "    if x['image_urls']:\n",
    "        template += [{'image_url': {'url': image_url}} for image_url in x['image_urls']]\n",
    "    template += [{'text': x['query']}]\n",
    "    prompt += HumanMessagePromptTemplate.from_template(template=template)\n",
    "\n",
    "    return prompt | llm | StrOutputParser()\n",
    "\n",
    "\n",
    "def recommend_wine(x):\n",
    "    prompt = ChatPromptTemplate.from_messages([\n",
    "        (\"system\", \"\"\"\n",
    "You are ChatGPT, a professional sommelier who has gone through a rigorous training process step by step, driven by a deep curiosity about wine. You possess a keen sense of smell, a keen sense of exploration, and an awareness of the many details in wine.\n",
    "\n",
    "Your task is to accurately identify an appropriate wine pairing based on the provided food description in triple quotes. 대답은 한글로 해줘\n",
    "\n",
    "### Task Instructions:\n",
    "\n",
    "1. **Food Analysis**:\n",
    "- Carefully read the food description provided within triple quotes.\n",
    "- Identify key characteristics of the food, including flavors, textures, cooking methods, and any prominent ingredients.\n",
    "\n",
    "2. **Wine Review Analysis**:\n",
    "- Carefully read the wine review and metadata provided within triple quotes.\n",
    "- Identify key characteristics of the wine, including aroma, flavor, tannin structure, acidity, body, and finish.\n",
    "\n",
    "3. **Pairing Recommendation**:\n",
    "- Recommend a specific wine (including grape variety, region of origin, and possible vintage) that pairs well with the described food.\n",
    "- Explain why this wine is a suitable match for the food, taking into account factors such as acidity, tannin structure, body, and flavor profile.\n",
    "\n",
    "### Example:\n",
    "\n",
    "**Food**:\n",
    "```Triple-cooked pork belly with a crispy skin, served with a tangy apple and fennel slaw, and a rich, savory jus.```\n",
    "\n",
    "**Wine Review**:\n",
    "```\n",
    "winery: Barossa Valley Shiraz\n",
    "description: This full-bodied Shiraz from Barossa Valley, Australia, boasts rich flavors of dark berries, black pepper, and a hint of vanilla. It has a robust tannin structure and a long, spicy finish.\n",
    "points: 92\n",
    "price: 30\n",
    "variety: Shiraz\n",
    "```\n",
    "\n",
    "**Wine Pairing Recommendation**:\n",
    "```A full-bodied red wine such as a Shiraz from Barossa Valley, Australia, would pair excellently with the triple-cooked pork belly. The wine’s robust tannins and dark fruit flavors will complement the rich, savory notes of the pork, while its hint of spice will enhance the tangy apple and fennel slaw. The acidity in the Shiraz will cut through the fat of the pork, creating a balanced and harmonious dining experience.```\n",
    "\n",
    "### Now, provide a food description in triple quotes for the system to recommend a wine pairing:\n",
    "**Food**:\n",
    "```\n",
    "{food}\n",
    "```\n",
    "\n",
    "**Wine Review**:\n",
    "```\n",
    "{reviews}\n",
    "```\n",
    "\"\"\"),\n",
    "    ])\n",
    "    return prompt | llm | StrOutputParser()\n",
    "\n",
    "\n",
    "def recommend_food(x):\n",
    "    prompt = ChatPromptTemplate.from_messages([\n",
    "        (\"system\", \"\"\"\n",
    "You are ChatGPT, a professional sommelier who has gone through a rigorous training process step by step, driven by a deep curiosity about wine. You possess a keen sense of smell, a keen sense of exploration, and an awareness of the many details in wine.\n",
    "\n",
    "Your task is to accurately identify the wine in question and recommend an appropriate food pairing based on the provided wine reviews in triple quotes. 대답은 한글로 해줘\n",
    "\n",
    "### Task Instructions:\n",
    "\n",
    "1. **Review Analysis**:\n",
    "- Carefully read the wine review provided within triple quotes.\n",
    "- Identify key characteristics of the wine, including aroma, flavor, tannin structure, acidity, body, and finish.\n",
    "\n",
    "2. **Wine Identification**:\n",
    "- Based on the identified characteristics, determine the specific type of wine, its possible grape variety, region of origin, and vintage if possible.\n",
    "- Consider elements such as fruit notes (e.g., cherry, blackberry), non-fruit notes (e.g., oak, vanilla), and structural components (e.g., tannins, acidity).\n",
    "\n",
    "3. **Pairing Recommendation**:\n",
    "- Recommend an appropriate food pairing that complements the identified wine.\n",
    "- Take into account the wine’s characteristics (e.g., a full-bodied red wine with high tannins pairs well with rich, fatty meats).\n",
    "- Suggest alternative pairings such as cheese, desserts, or even specific dishes that enhance the wine's profile.\n",
    "    \"\"\"),\n",
    "    ])\n",
    "\n",
    "    template = []\n",
    "    if x['image_urls']:\n",
    "        template += [{'image_url': {'url': image_url}} for image_url in x['image_urls']]\n",
    "    template += [{'text': x['query']}]\n",
    "    prompt += HumanMessagePromptTemplate.from_template(template=template)\n",
    "\n",
    "    return prompt | llm | StrOutputParser()"
   ]
  },
  {
   "cell_type": "code",
   "execution_count": 4,
   "id": "c6994257",
   "metadata": {},
   "outputs": [
    {
     "ename": "TypeError",
     "evalue": "string indices must be integers, not 'str'",
     "output_type": "error",
     "traceback": [
      "\u001b[31m---------------------------------------------------------------------------\u001b[39m",
      "\u001b[31mTypeError\u001b[39m                                 Traceback (most recent call last)",
      "\u001b[36mCell\u001b[39m\u001b[36m \u001b[39m\u001b[32mIn[4]\u001b[39m\u001b[32m, line 1\u001b[39m\n\u001b[32m----> \u001b[39m\u001b[32m1\u001b[39m \u001b[43mrecommend_food\u001b[49m\u001b[43m(\u001b[49m\u001b[33;43m\"\u001b[39;49m\u001b[33;43m샤도네이\u001b[39;49m\u001b[33;43m\"\u001b[39;49m\u001b[43m)\u001b[49m\n",
      "\u001b[36mCell\u001b[39m\u001b[36m \u001b[39m\u001b[32mIn[3]\u001b[39m\u001b[32m, line 114\u001b[39m, in \u001b[36mrecommend_food\u001b[39m\u001b[34m(x)\u001b[39m\n\u001b[32m     90\u001b[39m     prompt = ChatPromptTemplate.from_messages([\n\u001b[32m     91\u001b[39m         (\u001b[33m\"\u001b[39m\u001b[33msystem\u001b[39m\u001b[33m\"\u001b[39m, \u001b[33m\"\"\"\u001b[39m\n\u001b[32m     92\u001b[39m \u001b[33mYou are ChatGPT, a professional sommelier who has gone through a rigorous training process step by step, driven by a deep curiosity about wine. You possess a keen sense of smell, a keen sense of exploration, and an awareness of the many details in wine.\u001b[39m\n\u001b[32m   (...)\u001b[39m\u001b[32m    110\u001b[39m \u001b[33m    \u001b[39m\u001b[33m\"\"\"\u001b[39m),\n\u001b[32m    111\u001b[39m     ])\n\u001b[32m    113\u001b[39m     template = []\n\u001b[32m--> \u001b[39m\u001b[32m114\u001b[39m     \u001b[38;5;28;01mif\u001b[39;00m \u001b[43mx\u001b[49m\u001b[43m[\u001b[49m\u001b[33;43m'\u001b[39;49m\u001b[33;43mimage_urls\u001b[39;49m\u001b[33;43m'\u001b[39;49m\u001b[43m]\u001b[49m:\n\u001b[32m    115\u001b[39m         template += [{\u001b[33m'\u001b[39m\u001b[33mimage_url\u001b[39m\u001b[33m'\u001b[39m: {\u001b[33m'\u001b[39m\u001b[33murl\u001b[39m\u001b[33m'\u001b[39m: image_url}} \u001b[38;5;28;01mfor\u001b[39;00m image_url \u001b[38;5;129;01min\u001b[39;00m x[\u001b[33m'\u001b[39m\u001b[33mimage_urls\u001b[39m\u001b[33m'\u001b[39m]]\n\u001b[32m    116\u001b[39m     template += [{\u001b[33m'\u001b[39m\u001b[33mtext\u001b[39m\u001b[33m'\u001b[39m: x[\u001b[33m'\u001b[39m\u001b[33mquery\u001b[39m\u001b[33m'\u001b[39m]}]\n",
      "\u001b[31mTypeError\u001b[39m: string indices must be integers, not 'str'"
     ]
    }
   ],
   "source": [
    "recommend_food(\"샤도네이\")"
   ]
  },
  {
   "cell_type": "code",
   "execution_count": 4,
   "id": "9bbfd267",
   "metadata": {},
   "outputs": [],
   "source": [
    "import os\n",
    "\n",
    "from langchain_openai import ChatOpenAI\n",
    "from dotenv import load_dotenv\n",
    "\n",
    "from langchain_core.prompts import ChatPromptTemplate\n",
    "from langchain_core.prompts import HumanMessagePromptTemplate\n",
    "from langchain_core.output_parsers import StrOutputParser\n",
    "from langchain_core.runnables import RunnableLambda\n",
    "\n",
    "\n",
    "\n",
    "load_dotenv(\n",
    "\n",
    ")\n",
    "\n",
    "llm = ChatOpenAI(\n",
    "    model=\"gemini-pro\",\n",
    "    temperature=0,\n",
    "    api_key=os.getenv('OPENAI_API_KEY'),\n",
    "    max_tokens=4096,\n",
    ")"
   ]
  },
  {
   "cell_type": "code",
   "execution_count": 5,
   "id": "61cb7192",
   "metadata": {},
   "outputs": [
    {
     "ename": "NotFoundError",
     "evalue": "Error code: 404 - {'error': {'message': 'The model `gemini-pro` does not exist or you do not have access to it.', 'type': 'invalid_request_error', 'param': None, 'code': 'model_not_found'}}",
     "output_type": "error",
     "traceback": [
      "\u001b[31m---------------------------------------------------------------------------\u001b[39m",
      "\u001b[31mNotFoundError\u001b[39m                             Traceback (most recent call last)",
      "\u001b[36mCell\u001b[39m\u001b[36m \u001b[39m\u001b[32mIn[5]\u001b[39m\u001b[32m, line 1\u001b[39m\n\u001b[32m----> \u001b[39m\u001b[32m1\u001b[39m \u001b[43mllm\u001b[49m\u001b[43m.\u001b[49m\u001b[43minvoke\u001b[49m\u001b[43m(\u001b[49m\u001b[33;43m\"\u001b[39;49m\u001b[33;43m안녕하세요\u001b[39;49m\u001b[33;43m\"\u001b[39;49m\u001b[43m)\u001b[49m\n",
      "\u001b[36mFile \u001b[39m\u001b[32mc:\\02_practice\\03_WineParering\\venv\\Lib\\site-packages\\langchain_core\\language_models\\chat_models.py:371\u001b[39m, in \u001b[36mBaseChatModel.invoke\u001b[39m\u001b[34m(self, input, config, stop, **kwargs)\u001b[39m\n\u001b[32m    359\u001b[39m \u001b[38;5;129m@override\u001b[39m\n\u001b[32m    360\u001b[39m \u001b[38;5;28;01mdef\u001b[39;00m\u001b[38;5;250m \u001b[39m\u001b[34minvoke\u001b[39m(\n\u001b[32m    361\u001b[39m     \u001b[38;5;28mself\u001b[39m,\n\u001b[32m   (...)\u001b[39m\u001b[32m    366\u001b[39m     **kwargs: Any,\n\u001b[32m    367\u001b[39m ) -> BaseMessage:\n\u001b[32m    368\u001b[39m     config = ensure_config(config)\n\u001b[32m    369\u001b[39m     \u001b[38;5;28;01mreturn\u001b[39;00m cast(\n\u001b[32m    370\u001b[39m         \u001b[33m\"\u001b[39m\u001b[33mChatGeneration\u001b[39m\u001b[33m\"\u001b[39m,\n\u001b[32m--> \u001b[39m\u001b[32m371\u001b[39m         \u001b[38;5;28;43mself\u001b[39;49m\u001b[43m.\u001b[49m\u001b[43mgenerate_prompt\u001b[49m\u001b[43m(\u001b[49m\n\u001b[32m    372\u001b[39m \u001b[43m            \u001b[49m\u001b[43m[\u001b[49m\u001b[38;5;28;43mself\u001b[39;49m\u001b[43m.\u001b[49m\u001b[43m_convert_input\u001b[49m\u001b[43m(\u001b[49m\u001b[38;5;28;43minput\u001b[39;49m\u001b[43m)\u001b[49m\u001b[43m]\u001b[49m\u001b[43m,\u001b[49m\n\u001b[32m    373\u001b[39m \u001b[43m            \u001b[49m\u001b[43mstop\u001b[49m\u001b[43m=\u001b[49m\u001b[43mstop\u001b[49m\u001b[43m,\u001b[49m\n\u001b[32m    374\u001b[39m \u001b[43m            \u001b[49m\u001b[43mcallbacks\u001b[49m\u001b[43m=\u001b[49m\u001b[43mconfig\u001b[49m\u001b[43m.\u001b[49m\u001b[43mget\u001b[49m\u001b[43m(\u001b[49m\u001b[33;43m\"\u001b[39;49m\u001b[33;43mcallbacks\u001b[39;49m\u001b[33;43m\"\u001b[39;49m\u001b[43m)\u001b[49m\u001b[43m,\u001b[49m\n\u001b[32m    375\u001b[39m \u001b[43m            \u001b[49m\u001b[43mtags\u001b[49m\u001b[43m=\u001b[49m\u001b[43mconfig\u001b[49m\u001b[43m.\u001b[49m\u001b[43mget\u001b[49m\u001b[43m(\u001b[49m\u001b[33;43m\"\u001b[39;49m\u001b[33;43mtags\u001b[39;49m\u001b[33;43m\"\u001b[39;49m\u001b[43m)\u001b[49m\u001b[43m,\u001b[49m\n\u001b[32m    376\u001b[39m \u001b[43m            \u001b[49m\u001b[43mmetadata\u001b[49m\u001b[43m=\u001b[49m\u001b[43mconfig\u001b[49m\u001b[43m.\u001b[49m\u001b[43mget\u001b[49m\u001b[43m(\u001b[49m\u001b[33;43m\"\u001b[39;49m\u001b[33;43mmetadata\u001b[39;49m\u001b[33;43m\"\u001b[39;49m\u001b[43m)\u001b[49m\u001b[43m,\u001b[49m\n\u001b[32m    377\u001b[39m \u001b[43m            \u001b[49m\u001b[43mrun_name\u001b[49m\u001b[43m=\u001b[49m\u001b[43mconfig\u001b[49m\u001b[43m.\u001b[49m\u001b[43mget\u001b[49m\u001b[43m(\u001b[49m\u001b[33;43m\"\u001b[39;49m\u001b[33;43mrun_name\u001b[39;49m\u001b[33;43m\"\u001b[39;49m\u001b[43m)\u001b[49m\u001b[43m,\u001b[49m\n\u001b[32m    378\u001b[39m \u001b[43m            \u001b[49m\u001b[43mrun_id\u001b[49m\u001b[43m=\u001b[49m\u001b[43mconfig\u001b[49m\u001b[43m.\u001b[49m\u001b[43mpop\u001b[49m\u001b[43m(\u001b[49m\u001b[33;43m\"\u001b[39;49m\u001b[33;43mrun_id\u001b[39;49m\u001b[33;43m\"\u001b[39;49m\u001b[43m,\u001b[49m\u001b[43m \u001b[49m\u001b[38;5;28;43;01mNone\u001b[39;49;00m\u001b[43m)\u001b[49m\u001b[43m,\u001b[49m\n\u001b[32m    379\u001b[39m \u001b[43m            \u001b[49m\u001b[43m*\u001b[49m\u001b[43m*\u001b[49m\u001b[43mkwargs\u001b[49m\u001b[43m,\u001b[49m\n\u001b[32m    380\u001b[39m \u001b[43m        \u001b[49m\u001b[43m)\u001b[49m.generations[\u001b[32m0\u001b[39m][\u001b[32m0\u001b[39m],\n\u001b[32m    381\u001b[39m     ).message\n",
      "\u001b[36mFile \u001b[39m\u001b[32mc:\\02_practice\\03_WineParering\\venv\\Lib\\site-packages\\langchain_core\\language_models\\chat_models.py:956\u001b[39m, in \u001b[36mBaseChatModel.generate_prompt\u001b[39m\u001b[34m(self, prompts, stop, callbacks, **kwargs)\u001b[39m\n\u001b[32m    947\u001b[39m \u001b[38;5;129m@override\u001b[39m\n\u001b[32m    948\u001b[39m \u001b[38;5;28;01mdef\u001b[39;00m\u001b[38;5;250m \u001b[39m\u001b[34mgenerate_prompt\u001b[39m(\n\u001b[32m    949\u001b[39m     \u001b[38;5;28mself\u001b[39m,\n\u001b[32m   (...)\u001b[39m\u001b[32m    953\u001b[39m     **kwargs: Any,\n\u001b[32m    954\u001b[39m ) -> LLMResult:\n\u001b[32m    955\u001b[39m     prompt_messages = [p.to_messages() \u001b[38;5;28;01mfor\u001b[39;00m p \u001b[38;5;129;01min\u001b[39;00m prompts]\n\u001b[32m--> \u001b[39m\u001b[32m956\u001b[39m     \u001b[38;5;28;01mreturn\u001b[39;00m \u001b[38;5;28;43mself\u001b[39;49m\u001b[43m.\u001b[49m\u001b[43mgenerate\u001b[49m\u001b[43m(\u001b[49m\u001b[43mprompt_messages\u001b[49m\u001b[43m,\u001b[49m\u001b[43m \u001b[49m\u001b[43mstop\u001b[49m\u001b[43m=\u001b[49m\u001b[43mstop\u001b[49m\u001b[43m,\u001b[49m\u001b[43m \u001b[49m\u001b[43mcallbacks\u001b[49m\u001b[43m=\u001b[49m\u001b[43mcallbacks\u001b[49m\u001b[43m,\u001b[49m\u001b[43m \u001b[49m\u001b[43m*\u001b[49m\u001b[43m*\u001b[49m\u001b[43mkwargs\u001b[49m\u001b[43m)\u001b[49m\n",
      "\u001b[36mFile \u001b[39m\u001b[32mc:\\02_practice\\03_WineParering\\venv\\Lib\\site-packages\\langchain_core\\language_models\\chat_models.py:775\u001b[39m, in \u001b[36mBaseChatModel.generate\u001b[39m\u001b[34m(self, messages, stop, callbacks, tags, metadata, run_name, run_id, **kwargs)\u001b[39m\n\u001b[32m    772\u001b[39m \u001b[38;5;28;01mfor\u001b[39;00m i, m \u001b[38;5;129;01min\u001b[39;00m \u001b[38;5;28menumerate\u001b[39m(input_messages):\n\u001b[32m    773\u001b[39m     \u001b[38;5;28;01mtry\u001b[39;00m:\n\u001b[32m    774\u001b[39m         results.append(\n\u001b[32m--> \u001b[39m\u001b[32m775\u001b[39m             \u001b[38;5;28;43mself\u001b[39;49m\u001b[43m.\u001b[49m\u001b[43m_generate_with_cache\u001b[49m\u001b[43m(\u001b[49m\n\u001b[32m    776\u001b[39m \u001b[43m                \u001b[49m\u001b[43mm\u001b[49m\u001b[43m,\u001b[49m\n\u001b[32m    777\u001b[39m \u001b[43m                \u001b[49m\u001b[43mstop\u001b[49m\u001b[43m=\u001b[49m\u001b[43mstop\u001b[49m\u001b[43m,\u001b[49m\n\u001b[32m    778\u001b[39m \u001b[43m                \u001b[49m\u001b[43mrun_manager\u001b[49m\u001b[43m=\u001b[49m\u001b[43mrun_managers\u001b[49m\u001b[43m[\u001b[49m\u001b[43mi\u001b[49m\u001b[43m]\u001b[49m\u001b[43m \u001b[49m\u001b[38;5;28;43;01mif\u001b[39;49;00m\u001b[43m \u001b[49m\u001b[43mrun_managers\u001b[49m\u001b[43m \u001b[49m\u001b[38;5;28;43;01melse\u001b[39;49;00m\u001b[43m \u001b[49m\u001b[38;5;28;43;01mNone\u001b[39;49;00m\u001b[43m,\u001b[49m\n\u001b[32m    779\u001b[39m \u001b[43m                \u001b[49m\u001b[43m*\u001b[49m\u001b[43m*\u001b[49m\u001b[43mkwargs\u001b[49m\u001b[43m,\u001b[49m\n\u001b[32m    780\u001b[39m \u001b[43m            \u001b[49m\u001b[43m)\u001b[49m\n\u001b[32m    781\u001b[39m         )\n\u001b[32m    782\u001b[39m     \u001b[38;5;28;01mexcept\u001b[39;00m \u001b[38;5;167;01mBaseException\u001b[39;00m \u001b[38;5;28;01mas\u001b[39;00m e:\n\u001b[32m    783\u001b[39m         \u001b[38;5;28;01mif\u001b[39;00m run_managers:\n",
      "\u001b[36mFile \u001b[39m\u001b[32mc:\\02_practice\\03_WineParering\\venv\\Lib\\site-packages\\langchain_core\\language_models\\chat_models.py:1021\u001b[39m, in \u001b[36mBaseChatModel._generate_with_cache\u001b[39m\u001b[34m(self, messages, stop, run_manager, **kwargs)\u001b[39m\n\u001b[32m   1019\u001b[39m     result = generate_from_stream(\u001b[38;5;28miter\u001b[39m(chunks))\n\u001b[32m   1020\u001b[39m \u001b[38;5;28;01melif\u001b[39;00m inspect.signature(\u001b[38;5;28mself\u001b[39m._generate).parameters.get(\u001b[33m\"\u001b[39m\u001b[33mrun_manager\u001b[39m\u001b[33m\"\u001b[39m):\n\u001b[32m-> \u001b[39m\u001b[32m1021\u001b[39m     result = \u001b[38;5;28;43mself\u001b[39;49m\u001b[43m.\u001b[49m\u001b[43m_generate\u001b[49m\u001b[43m(\u001b[49m\n\u001b[32m   1022\u001b[39m \u001b[43m        \u001b[49m\u001b[43mmessages\u001b[49m\u001b[43m,\u001b[49m\u001b[43m \u001b[49m\u001b[43mstop\u001b[49m\u001b[43m=\u001b[49m\u001b[43mstop\u001b[49m\u001b[43m,\u001b[49m\u001b[43m \u001b[49m\u001b[43mrun_manager\u001b[49m\u001b[43m=\u001b[49m\u001b[43mrun_manager\u001b[49m\u001b[43m,\u001b[49m\u001b[43m \u001b[49m\u001b[43m*\u001b[49m\u001b[43m*\u001b[49m\u001b[43mkwargs\u001b[49m\n\u001b[32m   1023\u001b[39m \u001b[43m    \u001b[49m\u001b[43m)\u001b[49m\n\u001b[32m   1024\u001b[39m \u001b[38;5;28;01melse\u001b[39;00m:\n\u001b[32m   1025\u001b[39m     result = \u001b[38;5;28mself\u001b[39m._generate(messages, stop=stop, **kwargs)\n",
      "\u001b[36mFile \u001b[39m\u001b[32mc:\\02_practice\\03_WineParering\\venv\\Lib\\site-packages\\langchain_openai\\chat_models\\base.py:961\u001b[39m, in \u001b[36mBaseChatOpenAI._generate\u001b[39m\u001b[34m(self, messages, stop, run_manager, **kwargs)\u001b[39m\n\u001b[32m    959\u001b[39m     generation_info = {\u001b[33m\"\u001b[39m\u001b[33mheaders\u001b[39m\u001b[33m\"\u001b[39m: \u001b[38;5;28mdict\u001b[39m(raw_response.headers)}\n\u001b[32m    960\u001b[39m \u001b[38;5;28;01melse\u001b[39;00m:\n\u001b[32m--> \u001b[39m\u001b[32m961\u001b[39m     response = \u001b[38;5;28;43mself\u001b[39;49m\u001b[43m.\u001b[49m\u001b[43mclient\u001b[49m\u001b[43m.\u001b[49m\u001b[43mcreate\u001b[49m\u001b[43m(\u001b[49m\u001b[43m*\u001b[49m\u001b[43m*\u001b[49m\u001b[43mpayload\u001b[49m\u001b[43m)\u001b[49m\n\u001b[32m    962\u001b[39m \u001b[38;5;28;01mreturn\u001b[39;00m \u001b[38;5;28mself\u001b[39m._create_chat_result(response, generation_info)\n",
      "\u001b[36mFile \u001b[39m\u001b[32mc:\\02_practice\\03_WineParering\\venv\\Lib\\site-packages\\openai\\_utils\\_utils.py:287\u001b[39m, in \u001b[36mrequired_args.<locals>.inner.<locals>.wrapper\u001b[39m\u001b[34m(*args, **kwargs)\u001b[39m\n\u001b[32m    285\u001b[39m             msg = \u001b[33mf\u001b[39m\u001b[33m\"\u001b[39m\u001b[33mMissing required argument: \u001b[39m\u001b[38;5;132;01m{\u001b[39;00mquote(missing[\u001b[32m0\u001b[39m])\u001b[38;5;132;01m}\u001b[39;00m\u001b[33m\"\u001b[39m\n\u001b[32m    286\u001b[39m     \u001b[38;5;28;01mraise\u001b[39;00m \u001b[38;5;167;01mTypeError\u001b[39;00m(msg)\n\u001b[32m--> \u001b[39m\u001b[32m287\u001b[39m \u001b[38;5;28;01mreturn\u001b[39;00m \u001b[43mfunc\u001b[49m\u001b[43m(\u001b[49m\u001b[43m*\u001b[49m\u001b[43margs\u001b[49m\u001b[43m,\u001b[49m\u001b[43m \u001b[49m\u001b[43m*\u001b[49m\u001b[43m*\u001b[49m\u001b[43mkwargs\u001b[49m\u001b[43m)\u001b[49m\n",
      "\u001b[36mFile \u001b[39m\u001b[32mc:\\02_practice\\03_WineParering\\venv\\Lib\\site-packages\\openai\\resources\\chat\\completions\\completions.py:925\u001b[39m, in \u001b[36mCompletions.create\u001b[39m\u001b[34m(self, messages, model, audio, frequency_penalty, function_call, functions, logit_bias, logprobs, max_completion_tokens, max_tokens, metadata, modalities, n, parallel_tool_calls, prediction, presence_penalty, reasoning_effort, response_format, seed, service_tier, stop, store, stream, stream_options, temperature, tool_choice, tools, top_logprobs, top_p, user, web_search_options, extra_headers, extra_query, extra_body, timeout)\u001b[39m\n\u001b[32m    882\u001b[39m \u001b[38;5;129m@required_args\u001b[39m([\u001b[33m\"\u001b[39m\u001b[33mmessages\u001b[39m\u001b[33m\"\u001b[39m, \u001b[33m\"\u001b[39m\u001b[33mmodel\u001b[39m\u001b[33m\"\u001b[39m], [\u001b[33m\"\u001b[39m\u001b[33mmessages\u001b[39m\u001b[33m\"\u001b[39m, \u001b[33m\"\u001b[39m\u001b[33mmodel\u001b[39m\u001b[33m\"\u001b[39m, \u001b[33m\"\u001b[39m\u001b[33mstream\u001b[39m\u001b[33m\"\u001b[39m])\n\u001b[32m    883\u001b[39m \u001b[38;5;28;01mdef\u001b[39;00m\u001b[38;5;250m \u001b[39m\u001b[34mcreate\u001b[39m(\n\u001b[32m    884\u001b[39m     \u001b[38;5;28mself\u001b[39m,\n\u001b[32m   (...)\u001b[39m\u001b[32m    922\u001b[39m     timeout: \u001b[38;5;28mfloat\u001b[39m | httpx.Timeout | \u001b[38;5;28;01mNone\u001b[39;00m | NotGiven = NOT_GIVEN,\n\u001b[32m    923\u001b[39m ) -> ChatCompletion | Stream[ChatCompletionChunk]:\n\u001b[32m    924\u001b[39m     validate_response_format(response_format)\n\u001b[32m--> \u001b[39m\u001b[32m925\u001b[39m     \u001b[38;5;28;01mreturn\u001b[39;00m \u001b[38;5;28;43mself\u001b[39;49m\u001b[43m.\u001b[49m\u001b[43m_post\u001b[49m\u001b[43m(\u001b[49m\n\u001b[32m    926\u001b[39m \u001b[43m        \u001b[49m\u001b[33;43m\"\u001b[39;49m\u001b[33;43m/chat/completions\u001b[39;49m\u001b[33;43m\"\u001b[39;49m\u001b[43m,\u001b[49m\n\u001b[32m    927\u001b[39m \u001b[43m        \u001b[49m\u001b[43mbody\u001b[49m\u001b[43m=\u001b[49m\u001b[43mmaybe_transform\u001b[49m\u001b[43m(\u001b[49m\n\u001b[32m    928\u001b[39m \u001b[43m            \u001b[49m\u001b[43m{\u001b[49m\n\u001b[32m    929\u001b[39m \u001b[43m                \u001b[49m\u001b[33;43m\"\u001b[39;49m\u001b[33;43mmessages\u001b[39;49m\u001b[33;43m\"\u001b[39;49m\u001b[43m:\u001b[49m\u001b[43m \u001b[49m\u001b[43mmessages\u001b[49m\u001b[43m,\u001b[49m\n\u001b[32m    930\u001b[39m \u001b[43m                \u001b[49m\u001b[33;43m\"\u001b[39;49m\u001b[33;43mmodel\u001b[39;49m\u001b[33;43m\"\u001b[39;49m\u001b[43m:\u001b[49m\u001b[43m \u001b[49m\u001b[43mmodel\u001b[49m\u001b[43m,\u001b[49m\n\u001b[32m    931\u001b[39m \u001b[43m                \u001b[49m\u001b[33;43m\"\u001b[39;49m\u001b[33;43maudio\u001b[39;49m\u001b[33;43m\"\u001b[39;49m\u001b[43m:\u001b[49m\u001b[43m \u001b[49m\u001b[43maudio\u001b[49m\u001b[43m,\u001b[49m\n\u001b[32m    932\u001b[39m \u001b[43m                \u001b[49m\u001b[33;43m\"\u001b[39;49m\u001b[33;43mfrequency_penalty\u001b[39;49m\u001b[33;43m\"\u001b[39;49m\u001b[43m:\u001b[49m\u001b[43m \u001b[49m\u001b[43mfrequency_penalty\u001b[49m\u001b[43m,\u001b[49m\n\u001b[32m    933\u001b[39m \u001b[43m                \u001b[49m\u001b[33;43m\"\u001b[39;49m\u001b[33;43mfunction_call\u001b[39;49m\u001b[33;43m\"\u001b[39;49m\u001b[43m:\u001b[49m\u001b[43m \u001b[49m\u001b[43mfunction_call\u001b[49m\u001b[43m,\u001b[49m\n\u001b[32m    934\u001b[39m \u001b[43m                \u001b[49m\u001b[33;43m\"\u001b[39;49m\u001b[33;43mfunctions\u001b[39;49m\u001b[33;43m\"\u001b[39;49m\u001b[43m:\u001b[49m\u001b[43m \u001b[49m\u001b[43mfunctions\u001b[49m\u001b[43m,\u001b[49m\n\u001b[32m    935\u001b[39m \u001b[43m                \u001b[49m\u001b[33;43m\"\u001b[39;49m\u001b[33;43mlogit_bias\u001b[39;49m\u001b[33;43m\"\u001b[39;49m\u001b[43m:\u001b[49m\u001b[43m \u001b[49m\u001b[43mlogit_bias\u001b[49m\u001b[43m,\u001b[49m\n\u001b[32m    936\u001b[39m \u001b[43m                \u001b[49m\u001b[33;43m\"\u001b[39;49m\u001b[33;43mlogprobs\u001b[39;49m\u001b[33;43m\"\u001b[39;49m\u001b[43m:\u001b[49m\u001b[43m \u001b[49m\u001b[43mlogprobs\u001b[49m\u001b[43m,\u001b[49m\n\u001b[32m    937\u001b[39m \u001b[43m                \u001b[49m\u001b[33;43m\"\u001b[39;49m\u001b[33;43mmax_completion_tokens\u001b[39;49m\u001b[33;43m\"\u001b[39;49m\u001b[43m:\u001b[49m\u001b[43m \u001b[49m\u001b[43mmax_completion_tokens\u001b[49m\u001b[43m,\u001b[49m\n\u001b[32m    938\u001b[39m \u001b[43m                \u001b[49m\u001b[33;43m\"\u001b[39;49m\u001b[33;43mmax_tokens\u001b[39;49m\u001b[33;43m\"\u001b[39;49m\u001b[43m:\u001b[49m\u001b[43m \u001b[49m\u001b[43mmax_tokens\u001b[49m\u001b[43m,\u001b[49m\n\u001b[32m    939\u001b[39m \u001b[43m                \u001b[49m\u001b[33;43m\"\u001b[39;49m\u001b[33;43mmetadata\u001b[39;49m\u001b[33;43m\"\u001b[39;49m\u001b[43m:\u001b[49m\u001b[43m \u001b[49m\u001b[43mmetadata\u001b[49m\u001b[43m,\u001b[49m\n\u001b[32m    940\u001b[39m \u001b[43m                \u001b[49m\u001b[33;43m\"\u001b[39;49m\u001b[33;43mmodalities\u001b[39;49m\u001b[33;43m\"\u001b[39;49m\u001b[43m:\u001b[49m\u001b[43m \u001b[49m\u001b[43mmodalities\u001b[49m\u001b[43m,\u001b[49m\n\u001b[32m    941\u001b[39m \u001b[43m                \u001b[49m\u001b[33;43m\"\u001b[39;49m\u001b[33;43mn\u001b[39;49m\u001b[33;43m\"\u001b[39;49m\u001b[43m:\u001b[49m\u001b[43m \u001b[49m\u001b[43mn\u001b[49m\u001b[43m,\u001b[49m\n\u001b[32m    942\u001b[39m \u001b[43m                \u001b[49m\u001b[33;43m\"\u001b[39;49m\u001b[33;43mparallel_tool_calls\u001b[39;49m\u001b[33;43m\"\u001b[39;49m\u001b[43m:\u001b[49m\u001b[43m \u001b[49m\u001b[43mparallel_tool_calls\u001b[49m\u001b[43m,\u001b[49m\n\u001b[32m    943\u001b[39m \u001b[43m                \u001b[49m\u001b[33;43m\"\u001b[39;49m\u001b[33;43mprediction\u001b[39;49m\u001b[33;43m\"\u001b[39;49m\u001b[43m:\u001b[49m\u001b[43m \u001b[49m\u001b[43mprediction\u001b[49m\u001b[43m,\u001b[49m\n\u001b[32m    944\u001b[39m \u001b[43m                \u001b[49m\u001b[33;43m\"\u001b[39;49m\u001b[33;43mpresence_penalty\u001b[39;49m\u001b[33;43m\"\u001b[39;49m\u001b[43m:\u001b[49m\u001b[43m \u001b[49m\u001b[43mpresence_penalty\u001b[49m\u001b[43m,\u001b[49m\n\u001b[32m    945\u001b[39m \u001b[43m                \u001b[49m\u001b[33;43m\"\u001b[39;49m\u001b[33;43mreasoning_effort\u001b[39;49m\u001b[33;43m\"\u001b[39;49m\u001b[43m:\u001b[49m\u001b[43m \u001b[49m\u001b[43mreasoning_effort\u001b[49m\u001b[43m,\u001b[49m\n\u001b[32m    946\u001b[39m \u001b[43m                \u001b[49m\u001b[33;43m\"\u001b[39;49m\u001b[33;43mresponse_format\u001b[39;49m\u001b[33;43m\"\u001b[39;49m\u001b[43m:\u001b[49m\u001b[43m \u001b[49m\u001b[43mresponse_format\u001b[49m\u001b[43m,\u001b[49m\n\u001b[32m    947\u001b[39m \u001b[43m                \u001b[49m\u001b[33;43m\"\u001b[39;49m\u001b[33;43mseed\u001b[39;49m\u001b[33;43m\"\u001b[39;49m\u001b[43m:\u001b[49m\u001b[43m \u001b[49m\u001b[43mseed\u001b[49m\u001b[43m,\u001b[49m\n\u001b[32m    948\u001b[39m \u001b[43m                \u001b[49m\u001b[33;43m\"\u001b[39;49m\u001b[33;43mservice_tier\u001b[39;49m\u001b[33;43m\"\u001b[39;49m\u001b[43m:\u001b[49m\u001b[43m \u001b[49m\u001b[43mservice_tier\u001b[49m\u001b[43m,\u001b[49m\n\u001b[32m    949\u001b[39m \u001b[43m                \u001b[49m\u001b[33;43m\"\u001b[39;49m\u001b[33;43mstop\u001b[39;49m\u001b[33;43m\"\u001b[39;49m\u001b[43m:\u001b[49m\u001b[43m \u001b[49m\u001b[43mstop\u001b[49m\u001b[43m,\u001b[49m\n\u001b[32m    950\u001b[39m \u001b[43m                \u001b[49m\u001b[33;43m\"\u001b[39;49m\u001b[33;43mstore\u001b[39;49m\u001b[33;43m\"\u001b[39;49m\u001b[43m:\u001b[49m\u001b[43m \u001b[49m\u001b[43mstore\u001b[49m\u001b[43m,\u001b[49m\n\u001b[32m    951\u001b[39m \u001b[43m                \u001b[49m\u001b[33;43m\"\u001b[39;49m\u001b[33;43mstream\u001b[39;49m\u001b[33;43m\"\u001b[39;49m\u001b[43m:\u001b[49m\u001b[43m \u001b[49m\u001b[43mstream\u001b[49m\u001b[43m,\u001b[49m\n\u001b[32m    952\u001b[39m \u001b[43m                \u001b[49m\u001b[33;43m\"\u001b[39;49m\u001b[33;43mstream_options\u001b[39;49m\u001b[33;43m\"\u001b[39;49m\u001b[43m:\u001b[49m\u001b[43m \u001b[49m\u001b[43mstream_options\u001b[49m\u001b[43m,\u001b[49m\n\u001b[32m    953\u001b[39m \u001b[43m                \u001b[49m\u001b[33;43m\"\u001b[39;49m\u001b[33;43mtemperature\u001b[39;49m\u001b[33;43m\"\u001b[39;49m\u001b[43m:\u001b[49m\u001b[43m \u001b[49m\u001b[43mtemperature\u001b[49m\u001b[43m,\u001b[49m\n\u001b[32m    954\u001b[39m \u001b[43m                \u001b[49m\u001b[33;43m\"\u001b[39;49m\u001b[33;43mtool_choice\u001b[39;49m\u001b[33;43m\"\u001b[39;49m\u001b[43m:\u001b[49m\u001b[43m \u001b[49m\u001b[43mtool_choice\u001b[49m\u001b[43m,\u001b[49m\n\u001b[32m    955\u001b[39m \u001b[43m                \u001b[49m\u001b[33;43m\"\u001b[39;49m\u001b[33;43mtools\u001b[39;49m\u001b[33;43m\"\u001b[39;49m\u001b[43m:\u001b[49m\u001b[43m \u001b[49m\u001b[43mtools\u001b[49m\u001b[43m,\u001b[49m\n\u001b[32m    956\u001b[39m \u001b[43m                \u001b[49m\u001b[33;43m\"\u001b[39;49m\u001b[33;43mtop_logprobs\u001b[39;49m\u001b[33;43m\"\u001b[39;49m\u001b[43m:\u001b[49m\u001b[43m \u001b[49m\u001b[43mtop_logprobs\u001b[49m\u001b[43m,\u001b[49m\n\u001b[32m    957\u001b[39m \u001b[43m                \u001b[49m\u001b[33;43m\"\u001b[39;49m\u001b[33;43mtop_p\u001b[39;49m\u001b[33;43m\"\u001b[39;49m\u001b[43m:\u001b[49m\u001b[43m \u001b[49m\u001b[43mtop_p\u001b[49m\u001b[43m,\u001b[49m\n\u001b[32m    958\u001b[39m \u001b[43m                \u001b[49m\u001b[33;43m\"\u001b[39;49m\u001b[33;43muser\u001b[39;49m\u001b[33;43m\"\u001b[39;49m\u001b[43m:\u001b[49m\u001b[43m \u001b[49m\u001b[43muser\u001b[49m\u001b[43m,\u001b[49m\n\u001b[32m    959\u001b[39m \u001b[43m                \u001b[49m\u001b[33;43m\"\u001b[39;49m\u001b[33;43mweb_search_options\u001b[39;49m\u001b[33;43m\"\u001b[39;49m\u001b[43m:\u001b[49m\u001b[43m \u001b[49m\u001b[43mweb_search_options\u001b[49m\u001b[43m,\u001b[49m\n\u001b[32m    960\u001b[39m \u001b[43m            \u001b[49m\u001b[43m}\u001b[49m\u001b[43m,\u001b[49m\n\u001b[32m    961\u001b[39m \u001b[43m            \u001b[49m\u001b[43mcompletion_create_params\u001b[49m\u001b[43m.\u001b[49m\u001b[43mCompletionCreateParamsStreaming\u001b[49m\n\u001b[32m    962\u001b[39m \u001b[43m            \u001b[49m\u001b[38;5;28;43;01mif\u001b[39;49;00m\u001b[43m \u001b[49m\u001b[43mstream\u001b[49m\n\u001b[32m    963\u001b[39m \u001b[43m            \u001b[49m\u001b[38;5;28;43;01melse\u001b[39;49;00m\u001b[43m \u001b[49m\u001b[43mcompletion_create_params\u001b[49m\u001b[43m.\u001b[49m\u001b[43mCompletionCreateParamsNonStreaming\u001b[49m\u001b[43m,\u001b[49m\n\u001b[32m    964\u001b[39m \u001b[43m        \u001b[49m\u001b[43m)\u001b[49m\u001b[43m,\u001b[49m\n\u001b[32m    965\u001b[39m \u001b[43m        \u001b[49m\u001b[43moptions\u001b[49m\u001b[43m=\u001b[49m\u001b[43mmake_request_options\u001b[49m\u001b[43m(\u001b[49m\n\u001b[32m    966\u001b[39m \u001b[43m            \u001b[49m\u001b[43mextra_headers\u001b[49m\u001b[43m=\u001b[49m\u001b[43mextra_headers\u001b[49m\u001b[43m,\u001b[49m\u001b[43m \u001b[49m\u001b[43mextra_query\u001b[49m\u001b[43m=\u001b[49m\u001b[43mextra_query\u001b[49m\u001b[43m,\u001b[49m\u001b[43m \u001b[49m\u001b[43mextra_body\u001b[49m\u001b[43m=\u001b[49m\u001b[43mextra_body\u001b[49m\u001b[43m,\u001b[49m\u001b[43m \u001b[49m\u001b[43mtimeout\u001b[49m\u001b[43m=\u001b[49m\u001b[43mtimeout\u001b[49m\n\u001b[32m    967\u001b[39m \u001b[43m        \u001b[49m\u001b[43m)\u001b[49m\u001b[43m,\u001b[49m\n\u001b[32m    968\u001b[39m \u001b[43m        \u001b[49m\u001b[43mcast_to\u001b[49m\u001b[43m=\u001b[49m\u001b[43mChatCompletion\u001b[49m\u001b[43m,\u001b[49m\n\u001b[32m    969\u001b[39m \u001b[43m        \u001b[49m\u001b[43mstream\u001b[49m\u001b[43m=\u001b[49m\u001b[43mstream\u001b[49m\u001b[43m \u001b[49m\u001b[38;5;129;43;01mor\u001b[39;49;00m\u001b[43m \u001b[49m\u001b[38;5;28;43;01mFalse\u001b[39;49;00m\u001b[43m,\u001b[49m\n\u001b[32m    970\u001b[39m \u001b[43m        \u001b[49m\u001b[43mstream_cls\u001b[49m\u001b[43m=\u001b[49m\u001b[43mStream\u001b[49m\u001b[43m[\u001b[49m\u001b[43mChatCompletionChunk\u001b[49m\u001b[43m]\u001b[49m\u001b[43m,\u001b[49m\n\u001b[32m    971\u001b[39m \u001b[43m    \u001b[49m\u001b[43m)\u001b[49m\n",
      "\u001b[36mFile \u001b[39m\u001b[32mc:\\02_practice\\03_WineParering\\venv\\Lib\\site-packages\\openai\\_base_client.py:1239\u001b[39m, in \u001b[36mSyncAPIClient.post\u001b[39m\u001b[34m(self, path, cast_to, body, options, files, stream, stream_cls)\u001b[39m\n\u001b[32m   1225\u001b[39m \u001b[38;5;28;01mdef\u001b[39;00m\u001b[38;5;250m \u001b[39m\u001b[34mpost\u001b[39m(\n\u001b[32m   1226\u001b[39m     \u001b[38;5;28mself\u001b[39m,\n\u001b[32m   1227\u001b[39m     path: \u001b[38;5;28mstr\u001b[39m,\n\u001b[32m   (...)\u001b[39m\u001b[32m   1234\u001b[39m     stream_cls: \u001b[38;5;28mtype\u001b[39m[_StreamT] | \u001b[38;5;28;01mNone\u001b[39;00m = \u001b[38;5;28;01mNone\u001b[39;00m,\n\u001b[32m   1235\u001b[39m ) -> ResponseT | _StreamT:\n\u001b[32m   1236\u001b[39m     opts = FinalRequestOptions.construct(\n\u001b[32m   1237\u001b[39m         method=\u001b[33m\"\u001b[39m\u001b[33mpost\u001b[39m\u001b[33m\"\u001b[39m, url=path, json_data=body, files=to_httpx_files(files), **options\n\u001b[32m   1238\u001b[39m     )\n\u001b[32m-> \u001b[39m\u001b[32m1239\u001b[39m     \u001b[38;5;28;01mreturn\u001b[39;00m cast(ResponseT, \u001b[38;5;28;43mself\u001b[39;49m\u001b[43m.\u001b[49m\u001b[43mrequest\u001b[49m\u001b[43m(\u001b[49m\u001b[43mcast_to\u001b[49m\u001b[43m,\u001b[49m\u001b[43m \u001b[49m\u001b[43mopts\u001b[49m\u001b[43m,\u001b[49m\u001b[43m \u001b[49m\u001b[43mstream\u001b[49m\u001b[43m=\u001b[49m\u001b[43mstream\u001b[49m\u001b[43m,\u001b[49m\u001b[43m \u001b[49m\u001b[43mstream_cls\u001b[49m\u001b[43m=\u001b[49m\u001b[43mstream_cls\u001b[49m\u001b[43m)\u001b[49m)\n",
      "\u001b[36mFile \u001b[39m\u001b[32mc:\\02_practice\\03_WineParering\\venv\\Lib\\site-packages\\openai\\_base_client.py:1034\u001b[39m, in \u001b[36mSyncAPIClient.request\u001b[39m\u001b[34m(self, cast_to, options, stream, stream_cls)\u001b[39m\n\u001b[32m   1031\u001b[39m             err.response.read()\n\u001b[32m   1033\u001b[39m         log.debug(\u001b[33m\"\u001b[39m\u001b[33mRe-raising status error\u001b[39m\u001b[33m\"\u001b[39m)\n\u001b[32m-> \u001b[39m\u001b[32m1034\u001b[39m         \u001b[38;5;28;01mraise\u001b[39;00m \u001b[38;5;28mself\u001b[39m._make_status_error_from_response(err.response) \u001b[38;5;28;01mfrom\u001b[39;00m\u001b[38;5;250m \u001b[39m\u001b[38;5;28;01mNone\u001b[39;00m\n\u001b[32m   1036\u001b[39m     \u001b[38;5;28;01mbreak\u001b[39;00m\n\u001b[32m   1038\u001b[39m \u001b[38;5;28;01massert\u001b[39;00m response \u001b[38;5;129;01mis\u001b[39;00m \u001b[38;5;129;01mnot\u001b[39;00m \u001b[38;5;28;01mNone\u001b[39;00m, \u001b[33m\"\u001b[39m\u001b[33mcould not resolve response (should never happen)\u001b[39m\u001b[33m\"\u001b[39m\n",
      "\u001b[31mNotFoundError\u001b[39m: Error code: 404 - {'error': {'message': 'The model `gemini-pro` does not exist or you do not have access to it.', 'type': 'invalid_request_error', 'param': None, 'code': 'model_not_found'}}"
     ]
    }
   ],
   "source": [
    "llm.invoke(\"안녕하세요\")"
   ]
  },
  {
   "cell_type": "code",
   "execution_count": null,
   "id": "ff9dee79",
   "metadata": {},
   "outputs": [
    {
     "name": "stdout",
     "output_type": "stream",
     "text": [
      "\u001b[32;1m\u001b[1;3m[chain/start]\u001b[0m \u001b[1m[chain:RunnableSequence] Entering Chain run with input:\n",
      "\u001b[0m{\n",
      "  \"input\": \"Tell me a joke about cats\"\n",
      "}\n",
      "\u001b[32;1m\u001b[1;3m[llm/start]\u001b[0m \u001b[1m[chain:RunnableSequence > llm:ChatOpenAI] Entering LLM run with input:\n",
      "\u001b[0m{\n",
      "  \"prompts\": [\n",
      "    \"Human: Tell me a joke about cats\"\n",
      "  ]\n",
      "}\n",
      "\u001b[36;1m\u001b[1;3m[llm/end]\u001b[0m \u001b[1m[chain:RunnableSequence > llm:ChatOpenAI] [1.27s] Exiting LLM run with output:\n",
      "\u001b[0m{\n",
      "  \"generations\": [\n",
      "    [\n",
      "      {\n",
      "        \"generation_info\": {\n",
      "          \"finish_reason\": \"stop\",\n",
      "          \"logprobs\": null\n",
      "        },\n",
      "        \"type\": \"ChatGeneration\",\n",
      "        \"message\": {\n",
      "          \"lc\": 1,\n",
      "          \"type\": \"constructor\",\n",
      "          \"id\": [\n",
      "            \"langchain\",\n",
      "            \"schema\",\n",
      "            \"messages\",\n",
      "            \"AIMessage\"\n",
      "          ],\n",
      "          \"kwargs\": {\n",
      "            \"content\": \"{\\\"setup\\\":\\\"Why was the cat sitting on the computer?\\\",\\\"punchline\\\":\\\"Because it wanted to keep an eye on the mouse!\\\",\\\"rating\\\":7}\",\n",
      "            \"additional_kwargs\": {\n",
      "              \"parsed\": null,\n",
      "              \"refusal\": null\n",
      "            },\n",
      "            \"response_metadata\": {\n",
      "              \"token_usage\": {\n",
      "                \"completion_tokens\": 33,\n",
      "                \"prompt_tokens\": 96,\n",
      "                \"total_tokens\": 129,\n",
      "                \"completion_tokens_details\": {\n",
      "                  \"accepted_prediction_tokens\": 0,\n",
      "                  \"audio_tokens\": 0,\n",
      "                  \"reasoning_tokens\": 0,\n",
      "                  \"rejected_prediction_tokens\": 0\n",
      "                },\n",
      "                \"prompt_tokens_details\": {\n",
      "                  \"audio_tokens\": 0,\n",
      "                  \"cached_tokens\": 0\n",
      "                }\n",
      "              },\n",
      "              \"model_name\": \"gpt-4o-2024-08-06\",\n",
      "              \"system_fingerprint\": \"fp_55d88aaf2f\",\n",
      "              \"id\": \"chatcmpl-BY3LF1MtuWsz2AFldPb1OHwPSd593\",\n",
      "              \"service_tier\": \"default\",\n",
      "              \"finish_reason\": \"stop\",\n",
      "              \"logprobs\": null\n",
      "            },\n",
      "            \"type\": \"ai\",\n",
      "            \"id\": \"run--dcaacaf5-9b05-47cb-ba93-b9531cfa4386-0\",\n",
      "            \"usage_metadata\": {\n",
      "              \"input_tokens\": 96,\n",
      "              \"output_tokens\": 33,\n",
      "              \"total_tokens\": 129,\n",
      "              \"input_token_details\": {\n",
      "                \"audio\": 0,\n",
      "                \"cache_read\": 0\n",
      "              },\n",
      "              \"output_token_details\": {\n",
      "                \"audio\": 0,\n",
      "                \"reasoning\": 0\n",
      "              }\n",
      "            },\n",
      "            \"tool_calls\": [],\n",
      "            \"invalid_tool_calls\": []\n",
      "          }\n",
      "        },\n",
      "        \"text\": \"{\\\"setup\\\":\\\"Why was the cat sitting on the computer?\\\",\\\"punchline\\\":\\\"Because it wanted to keep an eye on the mouse!\\\",\\\"rating\\\":7}\"\n",
      "      }\n",
      "    ]\n",
      "  ],\n",
      "  \"llm_output\": {\n",
      "    \"token_usage\": {\n",
      "      \"completion_tokens\": 33,\n",
      "      \"prompt_tokens\": 96,\n",
      "      \"total_tokens\": 129,\n",
      "      \"completion_tokens_details\": {\n",
      "        \"accepted_prediction_tokens\": 0,\n",
      "        \"audio_tokens\": 0,\n",
      "        \"reasoning_tokens\": 0,\n",
      "        \"rejected_prediction_tokens\": 0\n",
      "      },\n",
      "      \"prompt_tokens_details\": {\n",
      "        \"audio_tokens\": 0,\n",
      "        \"cached_tokens\": 0\n",
      "      }\n",
      "    },\n",
      "    \"model_name\": \"gpt-4o-2024-08-06\",\n",
      "    \"system_fingerprint\": \"fp_55d88aaf2f\",\n",
      "    \"id\": \"chatcmpl-BY3LF1MtuWsz2AFldPb1OHwPSd593\",\n",
      "    \"service_tier\": \"default\"\n",
      "  },\n",
      "  \"run\": null,\n",
      "  \"type\": \"LLMResult\"\n",
      "}\n",
      "\u001b[32;1m\u001b[1;3m[chain/start]\u001b[0m \u001b[1m[chain:RunnableSequence > parser:JsonOutputParser] Entering Parser run with input:\n",
      "\u001b[0m[inputs]\n",
      "\u001b[36;1m\u001b[1;3m[chain/end]\u001b[0m \u001b[1m[chain:RunnableSequence > parser:JsonOutputParser] [0ms] Exiting Parser run with output:\n",
      "\u001b[0m{\n",
      "  \"setup\": \"Why was the cat sitting on the computer?\",\n",
      "  \"punchline\": \"Because it wanted to keep an eye on the mouse!\",\n",
      "  \"rating\": 7\n",
      "}\n",
      "\u001b[36;1m\u001b[1;3m[chain/end]\u001b[0m \u001b[1m[chain:RunnableSequence] [1.27s] Exiting Chain run with output:\n",
      "\u001b[0m{\n",
      "  \"setup\": \"Why was the cat sitting on the computer?\",\n",
      "  \"punchline\": \"Because it wanted to keep an eye on the mouse!\",\n",
      "  \"rating\": 7\n",
      "}\n"
     ]
    },
    {
     "data": {
      "text/plain": [
       "{'setup': 'Why was the cat sitting on the computer?',\n",
       " 'punchline': 'Because it wanted to keep an eye on the mouse!',\n",
       " 'rating': 7}"
      ]
     },
     "execution_count": 6,
     "metadata": {},
     "output_type": "execute_result"
    }
   ],
   "source": [
    "#function_call\n",
    "\"\"\"\n",
    "https://platform.openai.com/docs/guides/function-calling\n",
    "\n",
    "\"\"\"\n",
    "import os\n",
    "\n",
    "from langchain_openai import ChatOpenAI\n",
    "from langchain.globals import set_verbose, set_debug\n",
    "from dotenv import load_dotenv\n",
    "\n",
    "load_dotenv()\n",
    "\n",
    "set_debug(True)\n",
    "set_verbose(True)\n",
    "\n",
    "# 환경 변수 읽기\n",
    "llm = ChatOpenAI(model='gpt-4o', api_key=os.getenv('OPENAI_API_KEY'), temperature=0, max_tokens=4096)\n",
    "\n",
    "json_schema = {\n",
    "    \"title\": \"joke\",\n",
    "    \"description\": \"Joke to tell user.\",\n",
    "    \"type\": \"object\",\n",
    "    \"properties\": {\n",
    "        \"setup\": {\n",
    "            \"type\": \"string\",\n",
    "            \"description\": \"The setup of the joke\",\n",
    "        },\n",
    "        \"punchline\": {\n",
    "            \"type\": \"string\",\n",
    "            \"description\": \"The punchline to the joke\",\n",
    "        },\n",
    "        \"rating\": {\n",
    "            \"type\": \"integer\",\n",
    "            \"description\": \"How funny the joke is, from 1 to 10\",\n",
    "        },\n",
    "    },\n",
    "    \"required\": [\"setup\", \"punchline\"],\n",
    "}\n",
    "structured_llm = llm.with_structured_output(json_schema)\n",
    "\n",
    "structured_llm.invoke(\"Tell me a joke about cats\")"
   ]
  },
  {
   "cell_type": "code",
   "execution_count": 7,
   "id": "187d7551",
   "metadata": {},
   "outputs": [
    {
     "name": "stdout",
     "output_type": "stream",
     "text": [
      "first=RunnableBinding(bound=ChatOpenAI(client=<openai.resources.chat.completions.completions.Completions object at 0x00000141A20E0250>, async_client=<openai.resources.chat.completions.completions.AsyncCompletions object at 0x00000141A2090D50>, root_client=<openai.OpenAI object at 0x00000141A11D6F50>, root_async_client=<openai.AsyncOpenAI object at 0x00000141A11CE690>, model_name='gpt-4o', temperature=0.0, model_kwargs={}, openai_api_key=SecretStr('**********'), max_tokens=4096), kwargs={'response_format': {'type': 'json_schema', 'json_schema': {'name': 'joke', 'description': 'Joke to tell user.', 'strict': False, 'schema': {'type': 'object', 'properties': {'setup': {'type': 'string', 'description': 'The setup of the joke'}, 'punchline': {'type': 'string', 'description': 'The punchline to the joke'}, 'rating': {'type': 'integer', 'description': 'How funny the joke is, from 1 to 10'}}, 'required': ['setup', 'punchline']}}}, 'ls_structured_output_format': {'kwargs': {'method': 'json_schema', 'strict': None}, 'schema': {'type': 'function', 'function': {'name': 'joke', 'description': 'Joke to tell user.', 'parameters': {'type': 'object', 'properties': {'setup': {'type': 'string', 'description': 'The setup of the joke'}, 'punchline': {'type': 'string', 'description': 'The punchline to the joke'}, 'rating': {'type': 'integer', 'description': 'How funny the joke is, from 1 to 10'}}, 'required': ['setup', 'punchline']}}}}}, config={}, config_factories=[]) middle=[] last=JsonOutputParser()\n"
     ]
    }
   ],
   "source": [
    "print(structured_llm)"
   ]
  },
  {
   "cell_type": "code",
   "execution_count": 12,
   "id": "44f438b2",
   "metadata": {},
   "outputs": [],
   "source": [
    "def recommend_food(x):\n",
    "    prompt = ChatPromptTemplate.from_messages(\n",
    "        [\n",
    "            (\n",
    "                \"system\",\n",
    "                \"\"\"\n",
    "You are ChatGPT, a professional sommelier who has gone through a rigorous training process step by step, driven by a deep curiosity about wine. You possess a keen sense of smell, a keen sense of exploration, and an awareness of the many details in wine.\n",
    "\n",
    "Your task is to accurately identify the wine in question and recommend an appropriate food pairing based on the provided wine reviews in triple quotes. 대답은 한글로 해줘\n",
    "\n",
    "### Task Instructions:\n",
    "\n",
    "1. **Review Analysis**:\n",
    "- Carefully read the wine review provided within triple quotes.\n",
    "- Identify key characteristics of the wine, including aroma, flavor, tannin structure, acidity, body, and finish.\n",
    "\n",
    "2. **Wine Identification**:\n",
    "- Based on the identified characteristics, determine the specific type of wine, its possible grape variety, region of origin, and vintage if possible.\n",
    "- Consider elements such as fruit notes (e.g., cherry, blackberry), non-fruit notes (e.g., oak, vanilla), and structural components (e.g., tannins, acidity).\n",
    "\n",
    "3. **Pairing Recommendation**:\n",
    "- Recommend an appropriate food pairing that complements the identified wine.\n",
    "- Take into account the wine’s characteristics (e.g., a full-bodied red wine with high tannins pairs well with rich, fatty meats).\n",
    "- Suggest alternative pairings such as cheese, desserts, or even specific dishes that enhance the wine's profile.\n",
    "    \"\"\",\n",
    "            ),\n",
    "        ]\n",
    "    )\n",
    "\n",
    "    template = []\n",
    "    template += [{\"text\": x[\"query\"]}]\n",
    "    prompt += HumanMessagePromptTemplate.from_template(template=template)\n",
    "\n",
    "    return prompt | llm | StrOutputParser()"
   ]
  },
  {
   "cell_type": "code",
   "execution_count": 10,
   "id": "c02c0b5f",
   "metadata": {},
   "outputs": [
    {
     "ename": "SyntaxError",
     "evalue": "invalid syntax (305031628.py, line 1)",
     "output_type": "error",
     "traceback": [
      "  \u001b[36mCell\u001b[39m\u001b[36m \u001b[39m\u001b[32mIn[10]\u001b[39m\u001b[32m, line 1\u001b[39m\n\u001b[31m    \u001b[39m\u001b[31mrecommend_food(\"text\": \"삼겹살\")\u001b[39m\n                         ^\n\u001b[31mSyntaxError\u001b[39m\u001b[31m:\u001b[39m invalid syntax\n"
     ]
    }
   ],
   "source": [
    "\n",
    "recommend_food(\"text\": \"삼겹살\")"
   ]
  },
  {
   "cell_type": "code",
   "execution_count": null,
   "id": "e1fbcd32",
   "metadata": {},
   "outputs": [
    {
     "ename": "TypeError",
     "evalue": "recommend_food() missing 1 required positional argument: 'x'",
     "output_type": "error",
     "traceback": [
      "\u001b[31m---------------------------------------------------------------------------\u001b[39m",
      "\u001b[31mTypeError\u001b[39m                                 Traceback (most recent call last)",
      "\u001b[36mCell\u001b[39m\u001b[36m \u001b[39m\u001b[32mIn[13]\u001b[39m\u001b[32m, line 1\u001b[39m\n\u001b[32m----> \u001b[39m\u001b[32m1\u001b[39m \u001b[43mrecommend_food\u001b[49m\u001b[43m(\u001b[49m\u001b[43m)\u001b[49m\n",
      "\u001b[31mTypeError\u001b[39m: recommend_food() missing 1 required positional argument: 'x'"
     ]
    }
   ],
   "source": [
    "recommend_food()"
   ]
  },
  {
   "cell_type": "code",
   "execution_count": 14,
   "id": "00a23b24",
   "metadata": {},
   "outputs": [],
   "source": [
    "def chain_recommend_food():\n",
    "    return RunnableLambda(recommend_food)"
   ]
  },
  {
   "cell_type": "code",
   "execution_count": 15,
   "id": "7f0cbc8d",
   "metadata": {},
   "outputs": [
    {
     "ename": "TypeError",
     "evalue": "chain_recommend_food() takes 0 positional arguments but 1 was given",
     "output_type": "error",
     "traceback": [
      "\u001b[31m---------------------------------------------------------------------------\u001b[39m",
      "\u001b[31mTypeError\u001b[39m                                 Traceback (most recent call last)",
      "\u001b[36mCell\u001b[39m\u001b[36m \u001b[39m\u001b[32mIn[15]\u001b[39m\u001b[32m, line 1\u001b[39m\n\u001b[32m----> \u001b[39m\u001b[32m1\u001b[39m \u001b[43mchain_recommend_food\u001b[49m\u001b[43m(\u001b[49m\u001b[33;43m\"\u001b[39;49m\u001b[33;43m삼겹살\u001b[39;49m\u001b[33;43m\"\u001b[39;49m\u001b[43m)\u001b[49m\n",
      "\u001b[31mTypeError\u001b[39m: chain_recommend_food() takes 0 positional arguments but 1 was given"
     ]
    }
   ],
   "source": [
    "chain_recommend_food(\"삼겹살\")"
   ]
  },
  {
   "cell_type": "code",
   "execution_count": 17,
   "id": "4bf458ae",
   "metadata": {},
   "outputs": [
    {
     "ename": "NameError",
     "evalue": "name 'RunnableLambda' is not defined",
     "output_type": "error",
     "traceback": [
      "\u001b[31m---------------------------------------------------------------------------\u001b[39m",
      "\u001b[31mNameError\u001b[39m                                 Traceback (most recent call last)",
      "\u001b[36mCell\u001b[39m\u001b[36m \u001b[39m\u001b[32mIn[17]\u001b[39m\u001b[32m, line 1\u001b[39m\n\u001b[32m----> \u001b[39m\u001b[32m1\u001b[39m \u001b[43mchain_recommend_food\u001b[49m\u001b[43m(\u001b[49m\u001b[43m)\u001b[49m\n",
      "\u001b[36mCell\u001b[39m\u001b[36m \u001b[39m\u001b[32mIn[14]\u001b[39m\u001b[32m, line 2\u001b[39m, in \u001b[36mchain_recommend_food\u001b[39m\u001b[34m()\u001b[39m\n\u001b[32m      1\u001b[39m \u001b[38;5;28;01mdef\u001b[39;00m\u001b[38;5;250m \u001b[39m\u001b[34mchain_recommend_food\u001b[39m():\n\u001b[32m----> \u001b[39m\u001b[32m2\u001b[39m     \u001b[38;5;28;01mreturn\u001b[39;00m \u001b[43mRunnableLambda\u001b[49m(recommend_food)\n",
      "\u001b[31mNameError\u001b[39m: name 'RunnableLambda' is not defined"
     ]
    }
   ],
   "source": [
    "chain_recommend_food()"
   ]
  },
  {
   "cell_type": "code",
   "execution_count": 18,
   "id": "a91a9892",
   "metadata": {},
   "outputs": [],
   "source": [
    "def chain_recommend_food():\n",
    "    return RunnableLambda(recommend_food)"
   ]
  },
  {
   "cell_type": "code",
   "execution_count": 20,
   "id": "d1ab2558",
   "metadata": {},
   "outputs": [],
   "source": [
    "def wine_search(query):\n",
    "    return vectorstore.similarity_search(query)"
   ]
  },
  {
   "cell_type": "code",
   "execution_count": 24,
   "id": "ecbf1a60",
   "metadata": {},
   "outputs": [],
   "source": [
    "\"\"\"\n",
    "https://python.langchain.com/v0.2/docs/integrations/vectorstores/pinecone/\n",
    "\"\"\"\n",
    "import os\n",
    "\n",
    "from dotenv import load_dotenv\n",
    "from langchain_openai import OpenAIEmbeddings\n",
    "from langchain_pinecone import PineconeVectorStore\n",
    "from langchain_community.document_loaders.csv_loader import CSVLoader\n",
    "\n",
    "load_dotenv()\n",
    "\n",
    "# initialize Pinecone client\n",
    "index_name = \"winepairing\"\n",
    "embedding = OpenAIEmbeddings(\n",
    "    model='text-embedding-3-small',\n",
    "    api_key=os.getenv('OPENAI_API_KEY'),\n",
    ")\n",
    "vectorstore = PineconeVectorStore(\n",
    "    embedding=embedding,\n",
    "    index_name=index_name,\n",
    "    pinecone_api_key=os.getenv('PINECONE_API_KEY'),\n",
    ")\n",
    "\n",
    "\n",
    "\n",
    "\n",
    "def wine_search(query):\n",
    "    return vectorstore.similarity_search(query)\n",
    "\n",
    "\n",
    "\n"
   ]
  },
  {
   "cell_type": "code",
   "execution_count": 26,
   "id": "c6409953",
   "metadata": {},
   "outputs": [],
   "source": [
    "test = wine_search(\"담백\")"
   ]
  },
  {
   "cell_type": "code",
   "execution_count": 41,
   "id": "3d5112cd",
   "metadata": {},
   "outputs": [
    {
     "data": {
      "text/plain": [
       "[Document(id='36704745-9850-4627-bd87-f431c53401a1', metadata={'row': 51736.0, 'source': 'winemag-data-130k-v2.csv'}, page_content='id: 51736\\ncountry: Austria\\ndescription: The freshness of green citrus, pale yellow fruit and dewy summer meadows plays on the nose. The earthier palate focuses on textured savoriness reminiscent of miso and soy, counterpointed by lemon freshness. Savor slowly so you do not miss anything going on in the concentrated, slender body. It finishes on a savory lemon note.\\ndesignation: Loibner Federspiel\\npoints: 92\\nprice: 36\\nprovince: Wachau\\nregion_1: \\nregion_2: \\ntaster_name: Anne Krebiehl?MW\\ntaster_twitter_handle: @AnneInVino\\ntitle: F X Pichler 2016 Loibner Federspiel Gruner Veltliner (Wachau)\\nvariety: Gruner Veltliner\\nwinery: F X Pichler'),\n",
       " Document(id='20ed10cb-7ea5-491d-b60f-2a341c1b93de', metadata={'row': 29894.0, 'source': 'winemag-data-130k-v2.csv'}, page_content='id: 29894\\ncountry: Austria\\ndescription: Gentle perfume of citrus with just a hint of yeast sets the scene. The palate is concentrated, a lot more yeasty and very citric. There is ample depth and a core of white pepper and fruit that yet has to open up properly. This is one for the long run?but with ample refreshment and elegant poise. The finish just lasts and lasts.\\ndesignation: Loibner Loibenberg Smaragd\\npoints: 94\\nprice: 57\\nprovince: Wachau\\nregion_1: \\nregion_2: \\ntaster_name: Anne Krebiehl?MW\\ntaster_twitter_handle: @AnneInVino\\ntitle: F X Pichler 2014 Loibner Loibenberg Smaragd Gruner Veltliner (Wachau)\\nvariety: Gruner Veltliner\\nwinery: F X Pichler'),\n",
       " Document(id='b1f0bf76-3959-46e5-a20b-a10c82fb0275', metadata={'row': 58975.0, 'source': 'winemag-data-130k-v2.csv'}, page_content='id: 58975\\ncountry: Austria\\ndescription: Ripe and fruity, this is a fine expression of the easy, open style demanded by the Federspiel designation in the Wachau. Green fruit dominates along with a lively acidity that keeps the palate crisp. The wine is totally drinkable now, although it should age well over the next few years. Screwcap.\\ndesignation: Loibner Frauenweingarten Federspiel\\npoints: 90\\nprice: \\nprovince: Wachau\\nregion_1: \\nregion_2: \\ntaster_name: Roger Voss\\ntaster_twitter_handle: @vossroger\\ntitle: F X Pichler 2012 Loibner Frauenweingarten Federspiel Gruner Veltliner (Wachau)\\nvariety: Gruner Veltliner\\nwinery: F X Pichler'),\n",
       " Document(id='bbd370fd-2601-479a-88de-a20e717227d4', metadata={'row': 81148.0, 'source': 'winemag-data-130k-v2.csv'}, page_content='id: 81148\\ncountry: Austria\\ndescription: Lemony freshness marks a certain tartness on a light, lissom, fresh palate. With more time on palate there are hints of savoriness and some textured spice. Drink soon.\\ndesignation: Kittmannsberg Reserve\\npoints: 87\\nprice: 34\\nprovince: Kamptal\\nregion_1: \\nregion_2: \\ntaster_name: Anne Krebiehl?MW\\ntaster_twitter_handle: @AnneInVino\\ntitle: Steininger 2014 Kittmannsberg Reserve Gruner Veltliner (Kamptal)\\nvariety: Gruner Veltliner\\nwinery: Steininger')]"
      ]
     },
     "execution_count": 41,
     "metadata": {},
     "output_type": "execute_result"
    }
   ],
   "source": [
    "test"
   ]
  },
  {
   "cell_type": "code",
   "execution_count": 42,
   "id": "08a7a4c4",
   "metadata": {},
   "outputs": [],
   "source": [
    "description = []\n",
    "\n",
    "for doc in test:\n",
    "    for line in doc.page_content.splitlines():\n",
    "        if line.startswith(\"description:\"):\n",
    "            value = line.replace(\"description:\", \"\").strip()\n",
    "            description.append(value)"
   ]
  },
  {
   "cell_type": "code",
   "execution_count": 44,
   "id": "70d38730",
   "metadata": {},
   "outputs": [
    {
     "data": {
      "text/plain": [
       "['The freshness of green citrus, pale yellow fruit and dewy summer meadows plays on the nose. The earthier palate focuses on textured savoriness reminiscent of miso and soy, counterpointed by lemon freshness. Savor slowly so you do not miss anything going on in the concentrated, slender body. It finishes on a savory lemon note.',\n",
       " 'Gentle perfume of citrus with just a hint of yeast sets the scene. The palate is concentrated, a lot more yeasty and very citric. There is ample depth and a core of white pepper and fruit that yet has to open up properly. This is one for the long run?but with ample refreshment and elegant poise. The finish just lasts and lasts.',\n",
       " 'Ripe and fruity, this is a fine expression of the easy, open style demanded by the Federspiel designation in the Wachau. Green fruit dominates along with a lively acidity that keeps the palate crisp. The wine is totally drinkable now, although it should age well over the next few years. Screwcap.',\n",
       " 'Lemony freshness marks a certain tartness on a light, lissom, fresh palate. With more time on palate there are hints of savoriness and some textured spice. Drink soon.']"
      ]
     },
     "execution_count": 44,
     "metadata": {},
     "output_type": "execute_result"
    }
   ],
   "source": [
    "description"
   ]
  },
  {
   "cell_type": "code",
   "execution_count": 49,
   "id": "96f55efe",
   "metadata": {},
   "outputs": [
    {
     "data": {
      "text/plain": [
       "['id: 29894',\n",
       " 'country: Austria',\n",
       " 'description: Gentle perfume of citrus with just a hint of yeast sets the scene. The palate is concentrated, a lot more yeasty and very citric. There is ample depth and a core of white pepper and fruit that yet has to open up properly. This is one for the long run?but with ample refreshment and elegant poise. The finish just lasts and lasts.',\n",
       " 'designation: Loibner Loibenberg Smaragd',\n",
       " 'points: 94',\n",
       " 'price: 57',\n",
       " 'province: Wachau',\n",
       " 'region_1: ',\n",
       " 'region_2: ',\n",
       " 'taster_name: Anne Krebiehl?MW',\n",
       " 'taster_twitter_handle: @AnneInVino',\n",
       " 'title: F X Pichler 2014 Loibner Loibenberg Smaragd Gruner Veltliner (Wachau)',\n",
       " 'variety: Gruner Veltliner',\n",
       " 'winery: F X Pichler']"
      ]
     },
     "execution_count": 49,
     "metadata": {},
     "output_type": "execute_result"
    }
   ],
   "source": [
    "test[1].page_content.splitlines()"
   ]
  },
  {
   "cell_type": "code",
   "execution_count": 50,
   "id": "2148f6b7",
   "metadata": {},
   "outputs": [],
   "source": [
    "def wine_retrieval(taste):\n",
    "    return {\n",
    "        \"food\": taste,\n",
    "        \"reviews\": \"\\n\".join(d.page_content for d in wine_search(taste)),\n",
    "    }"
   ]
  },
  {
   "cell_type": "code",
   "execution_count": 52,
   "id": "f25639d0",
   "metadata": {},
   "outputs": [],
   "source": [
    "wine_retrieval = wine_retrieval(\"담백\")"
   ]
  },
  {
   "cell_type": "code",
   "execution_count": 56,
   "id": "57189c17",
   "metadata": {},
   "outputs": [
    {
     "data": {
      "text/plain": [
       "{'food': '담백',\n",
       " 'reviews': 'id: 51736\\ncountry: Austria\\ndescription: The freshness of green citrus, pale yellow fruit and dewy summer meadows plays on the nose. The earthier palate focuses on textured savoriness reminiscent of miso and soy, counterpointed by lemon freshness. Savor slowly so you do not miss anything going on in the concentrated, slender body. It finishes on a savory lemon note.\\ndesignation: Loibner Federspiel\\npoints: 92\\nprice: 36\\nprovince: Wachau\\nregion_1: \\nregion_2: \\ntaster_name: Anne Krebiehl?MW\\ntaster_twitter_handle: @AnneInVino\\ntitle: F X Pichler 2016 Loibner Federspiel Gruner Veltliner (Wachau)\\nvariety: Gruner Veltliner\\nwinery: F X Pichler\\nid: 29894\\ncountry: Austria\\ndescription: Gentle perfume of citrus with just a hint of yeast sets the scene. The palate is concentrated, a lot more yeasty and very citric. There is ample depth and a core of white pepper and fruit that yet has to open up properly. This is one for the long run?but with ample refreshment and elegant poise. The finish just lasts and lasts.\\ndesignation: Loibner Loibenberg Smaragd\\npoints: 94\\nprice: 57\\nprovince: Wachau\\nregion_1: \\nregion_2: \\ntaster_name: Anne Krebiehl?MW\\ntaster_twitter_handle: @AnneInVino\\ntitle: F X Pichler 2014 Loibner Loibenberg Smaragd Gruner Veltliner (Wachau)\\nvariety: Gruner Veltliner\\nwinery: F X Pichler\\nid: 58975\\ncountry: Austria\\ndescription: Ripe and fruity, this is a fine expression of the easy, open style demanded by the Federspiel designation in the Wachau. Green fruit dominates along with a lively acidity that keeps the palate crisp. The wine is totally drinkable now, although it should age well over the next few years. Screwcap.\\ndesignation: Loibner Frauenweingarten Federspiel\\npoints: 90\\nprice: \\nprovince: Wachau\\nregion_1: \\nregion_2: \\ntaster_name: Roger Voss\\ntaster_twitter_handle: @vossroger\\ntitle: F X Pichler 2012 Loibner Frauenweingarten Federspiel Gruner Veltliner (Wachau)\\nvariety: Gruner Veltliner\\nwinery: F X Pichler\\nid: 81148\\ncountry: Austria\\ndescription: Lemony freshness marks a certain tartness on a light, lissom, fresh palate. With more time on palate there are hints of savoriness and some textured spice. Drink soon.\\ndesignation: Kittmannsberg Reserve\\npoints: 87\\nprice: 34\\nprovince: Kamptal\\nregion_1: \\nregion_2: \\ntaster_name: Anne Krebiehl?MW\\ntaster_twitter_handle: @AnneInVino\\ntitle: Steininger 2014 Kittmannsberg Reserve Gruner Veltliner (Kamptal)\\nvariety: Gruner Veltliner\\nwinery: Steininger'}"
      ]
     },
     "execution_count": 56,
     "metadata": {},
     "output_type": "execute_result"
    }
   ],
   "source": [
    "wine_retrieval"
   ]
  },
  {
   "cell_type": "code",
   "execution_count": 57,
   "id": "cfd6117f",
   "metadata": {},
   "outputs": [],
   "source": [
    "def recommend_wine(x):\n",
    "    prompt = ChatPromptTemplate.from_messages(\n",
    "        [\n",
    "            (\n",
    "                \"system\",\n",
    "                \"\"\"\n",
    "You are ChatGPT, a professional sommelier who has gone through a rigorous training process step by step, driven by a deep curiosity about wine. You possess a keen sense of smell, a keen sense of exploration, and an awareness of the many details in wine.\n",
    "\n",
    "Your task is to accurately identify an appropriate wine pairing based on the provided food description in triple quotes. 대답은 한글로 해줘\n",
    "\n",
    "### Task Instructions:\n",
    "\n",
    "1. **Food Analysis**:\n",
    "- Carefully read the food description provided within triple quotes.\n",
    "- Identify key characteristics of the food, including flavors, textures, cooking methods, and any prominent ingredients.\n",
    "\n",
    "2. **Wine Review Analysis**:\n",
    "- Carefully read the wine review and metadata provided within triple quotes.\n",
    "- Identify key characteristics of the wine, including aroma, flavor, tannin structure, acidity, body, and finish.\n",
    "\n",
    "3. **Pairing Recommendation**:\n",
    "- Recommend a specific wine (including grape variety, region of origin, and possible vintage) that pairs well with the described food.\n",
    "- Explain why this wine is a suitable match for the food, taking into account factors such as acidity, tannin structure, body, and flavor profile.\n",
    "\n",
    "### Example:\n",
    "\n",
    "**Food**:\n",
    "```Triple-cooked pork belly with a crispy skin, served with a tangy apple and fennel slaw, and a rich, savory jus.```\n",
    "\n",
    "**Wine Review**:\n",
    "```\n",
    "winery: Barossa Valley Shiraz\n",
    "description: This full-bodied Shiraz from Barossa Valley, Australia, boasts rich flavors of dark berries, black pepper, and a hint of vanilla. It has a robust tannin structure and a long, spicy finish.\n",
    "points: 92\n",
    "price: 30\n",
    "variety: Shiraz\n",
    "```\n",
    "\n",
    "**Wine Pairing Recommendation**:\n",
    "```A full-bodied red wine such as a Shiraz from Barossa Valley, Australia, would pair excellently with the triple-cooked pork belly. The wine’s robust tannins and dark fruit flavors will complement the rich, savory notes of the pork, while its hint of spice will enhance the tangy apple and fennel slaw. The acidity in the Shiraz will cut through the fat of the pork, creating a balanced and harmonious dining experience.```\n",
    "\n",
    "### Now, provide a food description in triple quotes for the system to recommend a wine pairing:\n",
    "**Food**:\n",
    "```\n",
    "{food}\n",
    "```\n",
    "\n",
    "**Wine Review**:\n",
    "```\n",
    "{reviews}\n",
    "```\n",
    "\"\"\",\n",
    "            ),\n",
    "        ]\n",
    "    )\n",
    "    return prompt | llm | StrOutputParser()"
   ]
  },
  {
   "cell_type": "code",
   "execution_count": 63,
   "id": "19d61fc8",
   "metadata": {},
   "outputs": [
    {
     "data": {
      "text/plain": [
       "{'food': '담백',\n",
       " 'reviews': 'id: 51736\\ncountry: Austria\\ndescription: The freshness of green citrus, pale yellow fruit and dewy summer meadows plays on the nose. The earthier palate focuses on textured savoriness reminiscent of miso and soy, counterpointed by lemon freshness. Savor slowly so you do not miss anything going on in the concentrated, slender body. It finishes on a savory lemon note.\\ndesignation: Loibner Federspiel\\npoints: 92\\nprice: 36\\nprovince: Wachau\\nregion_1: \\nregion_2: \\ntaster_name: Anne Krebiehl?MW\\ntaster_twitter_handle: @AnneInVino\\ntitle: F X Pichler 2016 Loibner Federspiel Gruner Veltliner (Wachau)\\nvariety: Gruner Veltliner\\nwinery: F X Pichler\\nid: 29894\\ncountry: Austria\\ndescription: Gentle perfume of citrus with just a hint of yeast sets the scene. The palate is concentrated, a lot more yeasty and very citric. There is ample depth and a core of white pepper and fruit that yet has to open up properly. This is one for the long run?but with ample refreshment and elegant poise. The finish just lasts and lasts.\\ndesignation: Loibner Loibenberg Smaragd\\npoints: 94\\nprice: 57\\nprovince: Wachau\\nregion_1: \\nregion_2: \\ntaster_name: Anne Krebiehl?MW\\ntaster_twitter_handle: @AnneInVino\\ntitle: F X Pichler 2014 Loibner Loibenberg Smaragd Gruner Veltliner (Wachau)\\nvariety: Gruner Veltliner\\nwinery: F X Pichler\\nid: 58975\\ncountry: Austria\\ndescription: Ripe and fruity, this is a fine expression of the easy, open style demanded by the Federspiel designation in the Wachau. Green fruit dominates along with a lively acidity that keeps the palate crisp. The wine is totally drinkable now, although it should age well over the next few years. Screwcap.\\ndesignation: Loibner Frauenweingarten Federspiel\\npoints: 90\\nprice: \\nprovince: Wachau\\nregion_1: \\nregion_2: \\ntaster_name: Roger Voss\\ntaster_twitter_handle: @vossroger\\ntitle: F X Pichler 2012 Loibner Frauenweingarten Federspiel Gruner Veltliner (Wachau)\\nvariety: Gruner Veltliner\\nwinery: F X Pichler\\nid: 81148\\ncountry: Austria\\ndescription: Lemony freshness marks a certain tartness on a light, lissom, fresh palate. With more time on palate there are hints of savoriness and some textured spice. Drink soon.\\ndesignation: Kittmannsberg Reserve\\npoints: 87\\nprice: 34\\nprovince: Kamptal\\nregion_1: \\nregion_2: \\ntaster_name: Anne Krebiehl?MW\\ntaster_twitter_handle: @AnneInVino\\ntitle: Steininger 2014 Kittmannsberg Reserve Gruner Veltliner (Kamptal)\\nvariety: Gruner Veltliner\\nwinery: Steininger'}"
      ]
     },
     "execution_count": 63,
     "metadata": {},
     "output_type": "execute_result"
    }
   ],
   "source": [
    "wine_retrieval"
   ]
  },
  {
   "cell_type": "code",
   "execution_count": 62,
   "id": "0dd54a27",
   "metadata": {},
   "outputs": [
    {
     "data": {
      "text/plain": [
       "ChatPromptTemplate(input_variables=['food', 'reviews'], input_types={}, partial_variables={}, messages=[SystemMessagePromptTemplate(prompt=PromptTemplate(input_variables=['food', 'reviews'], input_types={}, partial_variables={}, template='\\nYou are ChatGPT, a professional sommelier who has gone through a rigorous training process step by step, driven by a deep curiosity about wine. You possess a keen sense of smell, a keen sense of exploration, and an awareness of the many details in wine.\\n\\nYour task is to accurately identify an appropriate wine pairing based on the provided food description in triple quotes. 대답은 한글로 해줘\\n\\n### Task Instructions:\\n\\n1. **Food Analysis**:\\n- Carefully read the food description provided within triple quotes.\\n- Identify key characteristics of the food, including flavors, textures, cooking methods, and any prominent ingredients.\\n\\n2. **Wine Review Analysis**:\\n- Carefully read the wine review and metadata provided within triple quotes.\\n- Identify key characteristics of the wine, including aroma, flavor, tannin structure, acidity, body, and finish.\\n\\n3. **Pairing Recommendation**:\\n- Recommend a specific wine (including grape variety, region of origin, and possible vintage) that pairs well with the described food.\\n- Explain why this wine is a suitable match for the food, taking into account factors such as acidity, tannin structure, body, and flavor profile.\\n\\n### Example:\\n\\n**Food**:\\n```Triple-cooked pork belly with a crispy skin, served with a tangy apple and fennel slaw, and a rich, savory jus.```\\n\\n**Wine Review**:\\n```\\nwinery: Barossa Valley Shiraz\\ndescription: This full-bodied Shiraz from Barossa Valley, Australia, boasts rich flavors of dark berries, black pepper, and a hint of vanilla. It has a robust tannin structure and a long, spicy finish.\\npoints: 92\\nprice: 30\\nvariety: Shiraz\\n```\\n\\n**Wine Pairing Recommendation**:\\n```A full-bodied red wine such as a Shiraz from Barossa Valley, Australia, would pair excellently with the triple-cooked pork belly. The wine’s robust tannins and dark fruit flavors will complement the rich, savory notes of the pork, while its hint of spice will enhance the tangy apple and fennel slaw. The acidity in the Shiraz will cut through the fat of the pork, creating a balanced and harmonious dining experience.```\\n\\n### Now, provide a food description in triple quotes for the system to recommend a wine pairing:\\n**Food**:\\n```\\n{food}\\n```\\n\\n**Wine Review**:\\n```\\n{reviews}\\n```\\n'), additional_kwargs={})])\n",
       "| ChatOpenAI(client=<openai.resources.chat.completions.completions.Completions object at 0x0000025C33E2FD90>, async_client=<openai.resources.chat.completions.completions.AsyncCompletions object at 0x0000025C56D685D0>, root_client=<openai.OpenAI object at 0x0000025C566FB690>, root_async_client=<openai.AsyncOpenAI object at 0x0000025C54EE2810>, model_name='gpt-4o', temperature=0.0, model_kwargs={}, openai_api_key=SecretStr('**********'), max_tokens=4096)\n",
       "| StrOutputParser()"
      ]
     },
     "execution_count": 62,
     "metadata": {},
     "output_type": "execute_result"
    }
   ],
   "source": [
    "recommend_wine(wine_retrieval)"
   ]
  },
  {
   "cell_type": "code",
   "execution_count": 64,
   "id": "5da17d80",
   "metadata": {},
   "outputs": [],
   "source": [
    "def chain_recommend_food():\n",
    "    return RunnableLambda(recommend_food)"
   ]
  },
  {
   "cell_type": "code",
   "execution_count": 67,
   "id": "03bdcf9d",
   "metadata": {},
   "outputs": [],
   "source": [
    "chain = chain_recommend_food()"
   ]
  },
  {
   "cell_type": "code",
   "execution_count": 69,
   "id": "73ad2a1f",
   "metadata": {},
   "outputs": [
    {
     "data": {
      "text/plain": [
       "<bound method RunnableLambda.invoke of RunnableLambda(recommend_food)>"
      ]
     },
     "execution_count": 69,
     "metadata": {},
     "output_type": "execute_result"
    }
   ],
   "source": [
    "chain.invoke"
   ]
  },
  {
   "cell_type": "code",
   "execution_count": 70,
   "id": "8a81eb0f",
   "metadata": {},
   "outputs": [
    {
     "data": {
      "text/plain": [
       "<function __main__.recommend_food(x)>"
      ]
     },
     "execution_count": 70,
     "metadata": {},
     "output_type": "execute_result"
    }
   ],
   "source": [
    "recommend_food"
   ]
  },
  {
   "cell_type": "code",
   "execution_count": 83,
   "id": "20356324",
   "metadata": {},
   "outputs": [],
   "source": [
    "def chain_recommend_wine():\n",
    "    return (\n",
    "        RunnableLambda(taste_food)\n",
    "        | RunnableLambda(wine_retrieval)\n",
    "        | RunnableLambda(recommend_wine)\n",
    "    )"
   ]
  },
  {
   "cell_type": "code",
   "execution_count": 88,
   "id": "b60f2874",
   "metadata": {},
   "outputs": [],
   "source": [
    "description='삼겹살'"
   ]
  },
  {
   "cell_type": "code",
   "execution_count": 89,
   "id": "7cb49b8d",
   "metadata": {},
   "outputs": [],
   "source": [
    "    response = chain.invoke(\n",
    "        {\n",
    "            \"query\": description,\n",
    "        }\n",
    "    )"
   ]
  },
  {
   "cell_type": "code",
   "execution_count": 90,
   "id": "320d486e",
   "metadata": {},
   "outputs": [
    {
     "data": {
      "text/plain": [
       "'삼겹살은 지방이 풍부하고 고소한 맛이 특징인 한국의 대표적인 고기 요리입니다. 삼겹살과 잘 어울리는 와인을 추천하기 위해서는 삼겹살의 풍미와 조화를 이루는 와인을 선택하는 것이 중요합니다.\\n\\n삼겹살과 잘 어울리는 와인은 일반적으로 산미가 적당하고 과일 향이 풍부한 와인입니다. 이러한 와인은 삼겹살의 기름진 맛을 잘 잡아주고, 고기의 풍미를 더욱 돋보이게 합니다. \\n\\n### 와인 추천:\\n1. **피노 누아 (Pinot Noir)**:\\n   - **특징**: 피노 누아는 중간 정도의 바디와 부드러운 탄닌, 그리고 체리와 라즈베리 같은 붉은 과일 향이 특징입니다. 산미가 적당하여 삼겹살의 기름진 맛을 잘 잡아줍니다.\\n   - **추천 이유**: 피노 누아의 산미와 과일 향이 삼겹살의 풍미를 돋보이게 하며, 고기의 기름진 맛을 깔끔하게 정리해 줍니다.\\n\\n2. **쉬라즈 (Shiraz) 또는 시라 (Syrah)**:\\n   - **특징**: 쉬라즈는 보통 진한 과일 향과 약간의 스파이시한 향이 있으며, 중간에서 풀 바디의 와인입니다.\\n   - **추천 이유**: 쉬라즈의 풍부한 과일 향과 스파이시한 노트가 삼겹살의 풍미와 잘 어울리며, 고기의 풍미를 더욱 깊게 만들어 줍니다.\\n\\n3. **젤라토 (Zinfandel)**:\\n   - **특징**: 젤라토는 진한 과일 향과 약간의 스파이시한 향이 특징이며, 중간에서 풀 바디의 와인입니다.\\n   - **추천 이유**: 젤라토의 풍부한 과일 향과 스파이시한 노트가 삼겹살의 풍미와 잘 어울리며, 고기의 풍미를 더욱 깊게 만들어 줍니다.\\n\\n이 외에도 삼겹살과 함께 즐길 수 있는 다양한 와인이 있으니, 개인의 취향에 맞춰 선택해 보세요.'"
      ]
     },
     "execution_count": 90,
     "metadata": {},
     "output_type": "execute_result"
    }
   ],
   "source": [
    "response"
   ]
  },
  {
   "cell_type": "code",
   "execution_count": 87,
   "id": "c9d54893",
   "metadata": {},
   "outputs": [],
   "source": [
    "def taste_food(x):\n",
    "    prompt = ChatPromptTemplate.from_messages(\n",
    "        [\n",
    "            (\n",
    "                \"system\",\n",
    "                \"\"\"When provided with an input question, please identify the dish in question and describe what it tastes like.\"\"\",\n",
    "            ),\n",
    "        ]\n",
    "    )\n",
    "\n",
    "    template = []\n",
    "    template += [{\"text\": x[\"query\"]}]\n",
    "    prompt += HumanMessagePromptTemplate.from_template(template=template)\n",
    "    print(x)\n",
    "    return prompt | llm | StrOutputParser()"
   ]
  },
  {
   "cell_type": "code",
   "execution_count": null,
   "id": "11f40282",
   "metadata": {},
   "outputs": [
    {
     "name": "stderr",
     "output_type": "stream",
     "text": [
      "c:\\02_practice\\03_WineParering\\venv\\Lib\\site-packages\\tqdm\\auto.py:21: TqdmWarning: IProgress not found. Please update jupyter and ipywidgets. See https://ipywidgets.readthedocs.io/en/stable/user_install.html\n",
      "  from .autonotebook import tqdm as notebook_tqdm\n"
     ]
    }
   ],
   "source": [
    "# backend\n",
    "import os\n",
    "\n",
    "from langchain_openai import ChatOpenAI\n",
    "from dotenv import load_dotenv\n",
    "\n",
    "from langchain_core.prompts import ChatPromptTemplate\n",
    "from langchain_core.prompts.chat import HumanMessagePromptTemplate\n",
    "from langchain_core.output_parsers import StrOutputParser\n",
    "from langchain_core.runnables import RunnableLambda\n",
    "\n",
    "from utils.retrieval import wine_search\n",
    "\n",
    "load_dotenv()\n",
    "\n",
    "llm = ChatOpenAI(\n",
    "    model=\"gpt-4o\",\n",
    "    temperature=0,\n",
    "    api_key=os.getenv(\"OPENAI_API_KEY\"),\n",
    "    max_tokens=4096,\n",
    ")\n",
    "\n",
    "\n",
    "def taste_food(x):\n",
    "    prompt = ChatPromptTemplate.from_messages(\n",
    "        [\n",
    "            (\n",
    "                \"system\",\n",
    "                \"\"\"When provided with an input question, please identify the dish in question and describe what it tastes like.\"\"\",\n",
    "            ),\n",
    "        ]\n",
    "    )\n",
    "\n",
    "    template = []\n",
    "    template += [{\"text\": x[\"query\"]}]\n",
    "    prompt += HumanMessagePromptTemplate.from_template(template=template)\n",
    "\n",
    "    return prompt | llm | StrOutputParser()\n",
    "\n",
    "\n",
    "def recommend_wine(x):\n",
    "    prompt = ChatPromptTemplate.from_messages(\n",
    "        [\n",
    "            (\n",
    "                \"system\",\n",
    "                \"\"\"\n",
    "You are ChatGPT, a professional sommelier who has gone through a rigorous training process step by step, driven by a deep curiosity about wine. You possess a keen sense of smell, a keen sense of exploration, and an awareness of the many details in wine.\n",
    "\n",
    "Your task is to accurately identify an appropriate wine pairing based on the provided food description in triple quotes. 대답은 한글로 해줘\n",
    "\n",
    "### Task Instructions:\n",
    "\n",
    "1. **Food Analysis**:\n",
    "- Carefully read the food description provided within triple quotes.\n",
    "- Identify key characteristics of the food, including flavors, textures, cooking methods, and any prominent ingredients.\n",
    "\n",
    "2. **Wine Review Analysis**:\n",
    "- Carefully read the wine review and metadata provided within triple quotes.\n",
    "- Identify key characteristics of the wine, including aroma, flavor, tannin structure, acidity, body, and finish.\n",
    "\n",
    "3. **Pairing Recommendation**:\n",
    "- Recommend a specific wine (including grape variety, region of origin, and possible vintage) that pairs well with the described food.\n",
    "- Explain why this wine is a suitable match for the food, taking into account factors such as acidity, tannin structure, body, and flavor profile.\n",
    "\n",
    "### Example:\n",
    "\n",
    "**Food**:\n",
    "```Triple-cooked pork belly with a crispy skin, served with a tangy apple and fennel slaw, and a rich, savory jus.```\n",
    "\n",
    "**Wine Review**:\n",
    "```\n",
    "winery: Barossa Valley Shiraz\n",
    "description: This full-bodied Shiraz from Barossa Valley, Australia, boasts rich flavors of dark berries, black pepper, and a hint of vanilla. It has a robust tannin structure and a long, spicy finish.\n",
    "points: 92\n",
    "price: 30\n",
    "variety: Shiraz\n",
    "```\n",
    "\n",
    "**Wine Pairing Recommendation**:\n",
    "```A full-bodied red wine such as a Shiraz from Barossa Valley, Australia, would pair excellently with the triple-cooked pork belly. The wine’s robust tannins and dark fruit flavors will complement the rich, savory notes of the pork, while its hint of spice will enhance the tangy apple and fennel slaw. The acidity in the Shiraz will cut through the fat of the pork, creating a balanced and harmonious dining experience.```\n",
    "\n",
    "### Now, provide a food description in triple quotes for the system to recommend a wine pairing:\n",
    "**Food**:\n",
    "```\n",
    "{food}\n",
    "```\n",
    "\n",
    "**Wine Review**:\n",
    "```\n",
    "{reviews}\n",
    "```\n",
    "\"\"\",\n",
    "            ),\n",
    "        ]\n",
    "    )\n",
    "    return prompt | llm | StrOutputParser()\n",
    "\n",
    "\n",
    "def recommend_food(x):\n",
    "    prompt = ChatPromptTemplate.from_messages(\n",
    "        [\n",
    "            (\n",
    "                \"system\",\n",
    "                \"\"\"\n",
    "You are ChatGPT, a professional sommelier who has gone through a rigorous training process step by step, driven by a deep curiosity about wine. You possess a keen sense of smell, a keen sense of exploration, and an awareness of the many details in wine.\n",
    "\n",
    "Your task is to accurately identify the wine in question and recommend an appropriate food pairing based on the provided wine reviews in triple quotes. 대답은 한글로 해줘\n",
    "\n",
    "### Task Instructions:\n",
    "\n",
    "1. **Review Analysis**:\n",
    "- Carefully read the wine review provided within triple quotes.\n",
    "- Identify key characteristics of the wine, including aroma, flavor, tannin structure, acidity, body, and finish.\n",
    "\n",
    "2. **Wine Identification**:\n",
    "- Based on the identified characteristics, determine the specific type of wine, its possible grape variety, region of origin, and vintage if possible.\n",
    "- Consider elements such as fruit notes (e.g., cherry, blackberry), non-fruit notes (e.g., oak, vanilla), and structural components (e.g., tannins, acidity).\n",
    "\n",
    "3. **Pairing Recommendation**:\n",
    "- Recommend an appropriate food pairing that complements the identified wine.\n",
    "- Take into account the wine’s characteristics (e.g., a full-bodied red wine with high tannins pairs well with rich, fatty meats).\n",
    "- Suggest alternative pairings such as cheese, desserts, or even specific dishes that enhance the wine's profile.\n",
    "    \"\"\",\n",
    "            ),\n",
    "        ]\n",
    "    )\n",
    "\n",
    "    template = []\n",
    "    template += [{\"text\": x[\"query\"]}]\n",
    "    prompt += HumanMessagePromptTemplate.from_template(template=template)\n",
    "\n",
    "    return prompt | llm | StrOutputParser()\n",
    "\n",
    "\n",
    "def wine_retrieval(taste):\n",
    "    return {\n",
    "        \"food\": taste,\n",
    "        \"reviews\": \"\\n\".join(d.page_content for d in wine_search(taste)),\n",
    "    }\n",
    "\n",
    "\n",
    "def chain_recommend_wine():\n",
    "    return (\n",
    "        RunnableLambda(taste_food)\n",
    "        | RunnableLambda(wine_retrieval)\n",
    "        | RunnableLambda(recommend_wine)\n",
    "    )\n",
    "\n",
    "\n",
    "def chain_recommend_food():\n",
    "    return RunnableLambda(recommend_food)\n"
   ]
  },
  {
   "cell_type": "code",
   "execution_count": null,
   "id": "4a668b0c",
   "metadata": {},
   "outputs": [],
   "source": [
    "def chain_recommend_wine():\n",
    "    return (\n",
    "        RunnableLambda(taste_food)\n",
    "        | RunnableLambda(wine_retrieval)\n",
    "        | RunnableLambda(recommend_wine)\n",
    "    )"
   ]
  },
  {
   "cell_type": "code",
   "execution_count": 15,
   "id": "39e0f9a1",
   "metadata": {},
   "outputs": [
    {
     "name": "stdout",
     "output_type": "stream",
     "text": [
      "first=ChatPromptTemplate(input_variables=[], input_types={}, partial_variables={}, messages=[SystemMessagePromptTemplate(prompt=PromptTemplate(input_variables=[], input_types={}, partial_variables={}, template='When provided with an input question, please identify the dish in question and describe what it tastes like.'), additional_kwargs={}), HumanMessagePromptTemplate(prompt=[PromptTemplate(input_variables=[], input_types={}, partial_variables={}, template='김치찌개')], additional_kwargs={})]) middle=[ChatOpenAI(client=<openai.resources.chat.completions.completions.Completions object at 0x000001DD33452BD0>, async_client=<openai.resources.chat.completions.completions.AsyncCompletions object at 0x000001DD33453890>, root_client=<openai.OpenAI object at 0x000001DD32E672D0>, root_async_client=<openai.AsyncOpenAI object at 0x000001DD33448C50>, model_name='gpt-4o', temperature=0.0, model_kwargs={}, openai_api_key=SecretStr('**********'), max_tokens=4096)] last=StrOutputParser()\n"
     ]
    }
   ],
   "source": [
    "print(taste_food({\"query\": \"김치찌개\"}))"
   ]
  },
  {
   "cell_type": "code",
   "execution_count": 18,
   "id": "182802cd",
   "metadata": {},
   "outputs": [],
   "source": [
    "def taste_food_test(x):\n",
    "    prompt = ChatPromptTemplate.from_messages(\n",
    "        [\n",
    "            (\n",
    "                \"system\",\n",
    "                \"\"\"When provided with an input question, please identify the dish in question and describe what it tastes like.한글로말해줘\"\"\",\n",
    "            ),\n",
    "        ]\n",
    "    )\n",
    "\n",
    "    template = []\n",
    "    template += [{\"text\": x[\"query\"]}]\n",
    "    prompt += HumanMessagePromptTemplate.from_template(template=template)\n",
    "    chain = prompt | llm | StrOutputParser()\n",
    "\n",
    "    return chain.invoke(x)  # 여기서 실행됨\n"
   ]
  },
  {
   "cell_type": "code",
   "execution_count": 19,
   "id": "44ec984a",
   "metadata": {},
   "outputs": [
    {
     "data": {
      "text/plain": [
       "'김치찌개는 한국의 전통적인 찌개 요리로, 주재료인 김치와 돼지고기, 두부, 양파, 대파 등을 함께 끓여 만듭니다. 김치찌개는 매콤하고 짭짤한 맛이 특징이며, 발효된 김치의 깊은 감칠맛과 돼지고기의 고소한 맛이 어우러져 진한 국물 맛을 냅니다. 또한, 두부와 야채들이 국물의 맛을 흡수하여 부드럽고 풍부한 식감을 제공합니다. 김치찌개는 밥과 함께 먹으면 더욱 맛있습니다.'"
      ]
     },
     "execution_count": 19,
     "metadata": {},
     "output_type": "execute_result"
    }
   ],
   "source": [
    "taste_food_test({\"query\": \"김치찌개\"})"
   ]
  },
  {
   "cell_type": "code",
   "execution_count": 22,
   "id": "1a4a693e",
   "metadata": {},
   "outputs": [
    {
     "data": {
      "text/plain": [
       "{'food': '김치찌개는 한국의 전통적인 찌개 요리로, 주재료인 김치와 돼지고기, 두부, 양파, 대파 등을 함께 끓여 만듭니다. 김치찌개는 매콤하고 짭짤한 맛이 특징이며, 발효된 김치의 깊은 감칠맛과 돼지고기의 고소한 맛이 어우러져 진한 국물 맛을 냅니다. 또한, 두부와 야채들이 국물의 맛을 흡수하여 부드럽고 풍부한 식감을 제공합니다. 김치찌개는 밥과 함께 먹으면 더욱 맛있습니다',\n",
       " 'reviews': \"id: 42844\\ncountry: Argentina\\ndescription: Big, fresh, grapy aromas are the greeting on this nice but generic Malbec. The palate is plump and chunky yet bright and fruit-forward, with creamy flavors of dark plum and berry. A clean, focused, short finish functions as a good close.\\ndesignation: Estate Bottled\\npoints: 87\\nprice: 13\\nprovince: Mendoza Province\\nregion_1: Mendoza\\nregion_2: \\ntaster_name: Michael Schachner\\ntaster_twitter_handle: @wineschach\\ntitle: Pascual Toso 2012 Estate Bottled Malbec (Mendoza)\\nvariety: Malbec\\nwinery: Pascual Toso\\nid: 78334\\ncountry: US\\ndescription: Fruity, with pie-filling flavors of blackberries and cherries. Soft, too, with gentle tannins. It's a wine to drink now.\\ndesignation: \\npoints: 86\\nprice: 30\\nprovince: California\\nregion_1: Sonoma County\\nregion_2: Sonoma\\ntaster_name: \\ntaster_twitter_handle: \\ntitle: Magistrate 2007 Cabernet Sauvignon (Sonoma County)\\nvariety: Cabernet Sauvignon\\nwinery: Magistrate\\nid: 126108\\ncountry: France\\ndescription: Although it's very dry, this also has some toasty bottle age that softens the impact of its raw fruit flavor. It is taut, with a crisp apple-skin texture and considerable acidity, balanced by a yeasty character.\\ndesignation: Extra Brut\\npoints: 86\\nprice: \\nprovince: Champagne\\nregion_1: Champagne\\nregion_2: \\ntaster_name: Roger Voss\\ntaster_twitter_handle: @vossroger\\ntitle: Jacquart NV Extra Brut  (Champagne)\\nvariety: Champagne Blend\\nwinery: Jacquart\\nid: 24401\\ncountry: Argentina\\ndescription: Aromas of tomato, herbs, plastic and berries are decent but minimal. This feels chunky due to modest acidity, while lightly baked, herbal plum and berry flavors are regular through the finish.\\ndesignation: \\npoints: 86\\nprice: 13\\nprovince: Mendoza Province\\nregion_1: Mendoza\\nregion_2: \\ntaster_name: Michael Schachner\\ntaster_twitter_handle: @wineschach\\ntitle: Aymara 2016 Malbec (Mendoza)\\nvariety: Malbec\\nwinery: Aymara\"}"
      ]
     },
     "execution_count": 22,
     "metadata": {},
     "output_type": "execute_result"
    }
   ],
   "source": [
    "wine_retrieval(\"김치찌개는 한국의 전통적인 찌개 요리로, 주재료인 김치와 돼지고기, 두부, 양파, 대파 등을 함께 끓여 만듭니다. 김치찌개는 매콤하고 짭짤한 맛이 특징이며, 발효된 김치의 깊은 감칠맛과 돼지고기의 고소한 맛이 어우러져 진한 국물 맛을 냅니다. 또한, 두부와 야채들이 국물의 맛을 흡수하여 부드럽고 풍부한 식감을 제공합니다. 김치찌개는 밥과 함께 먹으면 더욱 맛있습니다\")"
   ]
  },
  {
   "cell_type": "code",
   "execution_count": 23,
   "id": "f20d1ae5",
   "metadata": {},
   "outputs": [],
   "source": [
    "test = wine_retrieval(\"김치찌개는 한국의 전통적인 찌개 요리로, 주재료인 김치와 돼지고기, 두부, 양파, 대파 등을 함께 끓여 만듭니다. 김치찌개는 매콤하고 짭짤한 맛이 특징이며, 발효된 김치의 깊은 감칠맛과 돼지고기의 고소한 맛이 어우러져 진한 국물 맛을 냅니다. 또한, 두부와 야채들이 국물의 맛을 흡수하여 부드럽고 풍부한 식감을 제공합니다. 김치찌개는 밥과 함께 먹으면 더욱 맛있습니다\")"
   ]
  },
  {
   "cell_type": "code",
   "execution_count": 25,
   "id": "0d7eeaf8",
   "metadata": {},
   "outputs": [
    {
     "data": {
      "text/plain": [
       "{'food': '김치찌개는 한국의 전통적인 찌개 요리로, 주재료인 김치와 돼지고기, 두부, 양파, 대파 등을 함께 끓여 만듭니다. 김치찌개는 매콤하고 짭짤한 맛이 특징이며, 발효된 김치의 깊은 감칠맛과 돼지고기의 고소한 맛이 어우러져 진한 국물 맛을 냅니다. 또한, 두부와 야채들이 국물의 맛을 흡수하여 부드럽고 풍부한 식감을 제공합니다. 김치찌개는 밥과 함께 먹으면 더욱 맛있습니다',\n",
       " 'reviews': \"id: 42844\\ncountry: Argentina\\ndescription: Big, fresh, grapy aromas are the greeting on this nice but generic Malbec. The palate is plump and chunky yet bright and fruit-forward, with creamy flavors of dark plum and berry. A clean, focused, short finish functions as a good close.\\ndesignation: Estate Bottled\\npoints: 87\\nprice: 13\\nprovince: Mendoza Province\\nregion_1: Mendoza\\nregion_2: \\ntaster_name: Michael Schachner\\ntaster_twitter_handle: @wineschach\\ntitle: Pascual Toso 2012 Estate Bottled Malbec (Mendoza)\\nvariety: Malbec\\nwinery: Pascual Toso\\nid: 78334\\ncountry: US\\ndescription: Fruity, with pie-filling flavors of blackberries and cherries. Soft, too, with gentle tannins. It's a wine to drink now.\\ndesignation: \\npoints: 86\\nprice: 30\\nprovince: California\\nregion_1: Sonoma County\\nregion_2: Sonoma\\ntaster_name: \\ntaster_twitter_handle: \\ntitle: Magistrate 2007 Cabernet Sauvignon (Sonoma County)\\nvariety: Cabernet Sauvignon\\nwinery: Magistrate\\nid: 126108\\ncountry: France\\ndescription: Although it's very dry, this also has some toasty bottle age that softens the impact of its raw fruit flavor. It is taut, with a crisp apple-skin texture and considerable acidity, balanced by a yeasty character.\\ndesignation: Extra Brut\\npoints: 86\\nprice: \\nprovince: Champagne\\nregion_1: Champagne\\nregion_2: \\ntaster_name: Roger Voss\\ntaster_twitter_handle: @vossroger\\ntitle: Jacquart NV Extra Brut  (Champagne)\\nvariety: Champagne Blend\\nwinery: Jacquart\\nid: 24401\\ncountry: Argentina\\ndescription: Aromas of tomato, herbs, plastic and berries are decent but minimal. This feels chunky due to modest acidity, while lightly baked, herbal plum and berry flavors are regular through the finish.\\ndesignation: \\npoints: 86\\nprice: 13\\nprovince: Mendoza Province\\nregion_1: Mendoza\\nregion_2: \\ntaster_name: Michael Schachner\\ntaster_twitter_handle: @wineschach\\ntitle: Aymara 2016 Malbec (Mendoza)\\nvariety: Malbec\\nwinery: Aymara\"}"
      ]
     },
     "execution_count": 25,
     "metadata": {},
     "output_type": "execute_result"
    }
   ],
   "source": [
    "test"
   ]
  },
  {
   "cell_type": "code",
   "execution_count": 27,
   "id": "b93eddc3",
   "metadata": {},
   "outputs": [
    {
     "name": "stdout",
     "output_type": "stream",
     "text": [
      "{'food': '김치찌개는 한국의 전통적인 찌개 요리로, 주재료인 김치와 돼지고기, 두부, 양파, 대파 등을 함께 끓여 만듭니다. 김치찌개는 매콤하고 짭짤한 맛이 특징이며, 발효된 김치의 깊은 감칠맛과 돼지고기의 고소한 맛이 어우러져 진한 국물 맛을 냅니다. 또한, 두부와 야채들이 국물의 맛을 흡수하여 부드럽고 풍부한 식감을 제공합니다. 김치찌개는 밥과 함께 먹으면 더욱 맛있습니다', 'reviews': \"id: 42844\\ncountry: Argentina\\ndescription: Big, fresh, grapy aromas are the greeting on this nice but generic Malbec. The palate is plump and chunky yet bright and fruit-forward, with creamy flavors of dark plum and berry. A clean, focused, short finish functions as a good close.\\ndesignation: Estate Bottled\\npoints: 87\\nprice: 13\\nprovince: Mendoza Province\\nregion_1: Mendoza\\nregion_2: \\ntaster_name: Michael Schachner\\ntaster_twitter_handle: @wineschach\\ntitle: Pascual Toso 2012 Estate Bottled Malbec (Mendoza)\\nvariety: Malbec\\nwinery: Pascual Toso\\nid: 78334\\ncountry: US\\ndescription: Fruity, with pie-filling flavors of blackberries and cherries. Soft, too, with gentle tannins. It's a wine to drink now.\\ndesignation: \\npoints: 86\\nprice: 30\\nprovince: California\\nregion_1: Sonoma County\\nregion_2: Sonoma\\ntaster_name: \\ntaster_twitter_handle: \\ntitle: Magistrate 2007 Cabernet Sauvignon (Sonoma County)\\nvariety: Cabernet Sauvignon\\nwinery: Magistrate\\nid: 126108\\ncountry: France\\ndescription: Although it's very dry, this also has some toasty bottle age that softens the impact of its raw fruit flavor. It is taut, with a crisp apple-skin texture and considerable acidity, balanced by a yeasty character.\\ndesignation: Extra Brut\\npoints: 86\\nprice: \\nprovince: Champagne\\nregion_1: Champagne\\nregion_2: \\ntaster_name: Roger Voss\\ntaster_twitter_handle: @vossroger\\ntitle: Jacquart NV Extra Brut  (Champagne)\\nvariety: Champagne Blend\\nwinery: Jacquart\\nid: 24401\\ncountry: Argentina\\ndescription: Aromas of tomato, herbs, plastic and berries are decent but minimal. This feels chunky due to modest acidity, while lightly baked, herbal plum and berry flavors are regular through the finish.\\ndesignation: \\npoints: 86\\nprice: 13\\nprovince: Mendoza Province\\nregion_1: Mendoza\\nregion_2: \\ntaster_name: Michael Schachner\\ntaster_twitter_handle: @wineschach\\ntitle: Aymara 2016 Malbec (Mendoza)\\nvariety: Malbec\\nwinery: Aymara\"}\n"
     ]
    }
   ],
   "source": [
    "print(test)"
   ]
  },
  {
   "cell_type": "code",
   "execution_count": 28,
   "id": "0d42723e",
   "metadata": {},
   "outputs": [
    {
     "ename": "TypeError",
     "evalue": "unhashable type: 'dict'",
     "output_type": "error",
     "traceback": [
      "\u001b[31m---------------------------------------------------------------------------\u001b[39m",
      "\u001b[31mTypeError\u001b[39m                                 Traceback (most recent call last)",
      "\u001b[36mCell\u001b[39m\u001b[36m \u001b[39m\u001b[32mIn[28]\u001b[39m\u001b[32m, line 1\u001b[39m\n\u001b[32m----> \u001b[39m\u001b[32m1\u001b[39m recommend_wine({\n\u001b[32m      2\u001b[39m {\u001b[33m'\u001b[39m\u001b[33mfood\u001b[39m\u001b[33m'\u001b[39m: \u001b[33m'\u001b[39m\u001b[33m김치찌개는 한국의 전통적인 찌개 요리로, 주재료인 김치와 돼지고기, 두부, 양파, 대파 등을 함께 끓여 만듭니다. 김치찌개는 매콤하고 짭짤한 맛이 특징이며, 발효된 김치의 깊은 감칠맛과 돼지고기의 고소한 맛이 어우러져 진한 국물 맛을 냅니다. 또한, 두부와 야채들이 국물의 맛을 흡수하여 부드럽고 풍부한 식감을 제공합니다. 김치찌개는 밥과 함께 먹으면 더욱 맛있습니다\u001b[39m\u001b[33m'\u001b[39m,\n\u001b[32m      3\u001b[39m  \u001b[33m'\u001b[39m\u001b[33mreviews\u001b[39m\u001b[33m'\u001b[39m: \u001b[33m\"\u001b[39m\u001b[33mid: 42844\u001b[39m\u001b[38;5;130;01m\\n\u001b[39;00m\u001b[33mcountry: Argentina\u001b[39m\u001b[38;5;130;01m\\n\u001b[39;00m\u001b[33mdescription: Big, fresh, grapy aromas are the greeting on this nice but generic Malbec. The palate is plump and chunky yet bright and fruit-forward, with creamy flavors of dark plum and berry. A clean, focused, short finish functions as a good close.\u001b[39m\u001b[38;5;130;01m\\n\u001b[39;00m\u001b[33mdesignation: Estate Bottled\u001b[39m\u001b[38;5;130;01m\\n\u001b[39;00m\u001b[33mpoints: 87\u001b[39m\u001b[38;5;130;01m\\n\u001b[39;00m\u001b[33mprice: 13\u001b[39m\u001b[38;5;130;01m\\n\u001b[39;00m\u001b[33mprovince: Mendoza Province\u001b[39m\u001b[38;5;130;01m\\n\u001b[39;00m\u001b[33mregion_1: Mendoza\u001b[39m\u001b[38;5;130;01m\\n\u001b[39;00m\u001b[33mregion_2: \u001b[39m\u001b[38;5;130;01m\\n\u001b[39;00m\u001b[33mtaster_name: Michael Schachner\u001b[39m\u001b[38;5;130;01m\\n\u001b[39;00m\u001b[33mtaster_twitter_handle: @wineschach\u001b[39m\u001b[38;5;130;01m\\n\u001b[39;00m\u001b[33mtitle: Pascual Toso 2012 Estate Bottled Malbec (Mendoza)\u001b[39m\u001b[38;5;130;01m\\n\u001b[39;00m\u001b[33mvariety: Malbec\u001b[39m\u001b[38;5;130;01m\\n\u001b[39;00m\u001b[33mwinery: Pascual Toso\u001b[39m\u001b[38;5;130;01m\\n\u001b[39;00m\u001b[33mid: 78334\u001b[39m\u001b[38;5;130;01m\\n\u001b[39;00m\u001b[33mcountry: US\u001b[39m\u001b[38;5;130;01m\\n\u001b[39;00m\u001b[33mdescription: Fruity, with pie-filling flavors of blackberries and cherries. Soft, too, with gentle tannins. It\u001b[39m\u001b[33m'\u001b[39m\u001b[33ms a wine to drink now.\u001b[39m\u001b[38;5;130;01m\\n\u001b[39;00m\u001b[33mdesignation: \u001b[39m\u001b[38;5;130;01m\\n\u001b[39;00m\u001b[33mpoints: 86\u001b[39m\u001b[38;5;130;01m\\n\u001b[39;00m\u001b[33mprice: 30\u001b[39m\u001b[38;5;130;01m\\n\u001b[39;00m\u001b[33mprovince: California\u001b[39m\u001b[38;5;130;01m\\n\u001b[39;00m\u001b[33mregion_1: Sonoma County\u001b[39m\u001b[38;5;130;01m\\n\u001b[39;00m\u001b[33mregion_2: Sonoma\u001b[39m\u001b[38;5;130;01m\\n\u001b[39;00m\u001b[33mtaster_name: \u001b[39m\u001b[38;5;130;01m\\n\u001b[39;00m\u001b[33mtaster_twitter_handle: \u001b[39m\u001b[38;5;130;01m\\n\u001b[39;00m\u001b[33mtitle: Magistrate 2007 Cabernet Sauvignon (Sonoma County)\u001b[39m\u001b[38;5;130;01m\\n\u001b[39;00m\u001b[33mvariety: Cabernet Sauvignon\u001b[39m\u001b[38;5;130;01m\\n\u001b[39;00m\u001b[33mwinery: Magistrate\u001b[39m\u001b[38;5;130;01m\\n\u001b[39;00m\u001b[33mid: 126108\u001b[39m\u001b[38;5;130;01m\\n\u001b[39;00m\u001b[33mcountry: France\u001b[39m\u001b[38;5;130;01m\\n\u001b[39;00m\u001b[33mdescription: Although it\u001b[39m\u001b[33m'\u001b[39m\u001b[33ms very dry, this also has some toasty bottle age that softens the impact of its raw fruit flavor. It is taut, with a crisp apple-skin texture and considerable acidity, balanced by a yeasty character.\u001b[39m\u001b[38;5;130;01m\\n\u001b[39;00m\u001b[33mdesignation: Extra Brut\u001b[39m\u001b[38;5;130;01m\\n\u001b[39;00m\u001b[33mpoints: 86\u001b[39m\u001b[38;5;130;01m\\n\u001b[39;00m\u001b[33mprice: \u001b[39m\u001b[38;5;130;01m\\n\u001b[39;00m\u001b[33mprovince: Champagne\u001b[39m\u001b[38;5;130;01m\\n\u001b[39;00m\u001b[33mregion_1: Champagne\u001b[39m\u001b[38;5;130;01m\\n\u001b[39;00m\u001b[33mregion_2: \u001b[39m\u001b[38;5;130;01m\\n\u001b[39;00m\u001b[33mtaster_name: Roger Voss\u001b[39m\u001b[38;5;130;01m\\n\u001b[39;00m\u001b[33mtaster_twitter_handle: @vossroger\u001b[39m\u001b[38;5;130;01m\\n\u001b[39;00m\u001b[33mtitle: Jacquart NV Extra Brut  (Champagne)\u001b[39m\u001b[38;5;130;01m\\n\u001b[39;00m\u001b[33mvariety: Champagne Blend\u001b[39m\u001b[38;5;130;01m\\n\u001b[39;00m\u001b[33mwinery: Jacquart\u001b[39m\u001b[38;5;130;01m\\n\u001b[39;00m\u001b[33mid: 24401\u001b[39m\u001b[38;5;130;01m\\n\u001b[39;00m\u001b[33mcountry: Argentina\u001b[39m\u001b[38;5;130;01m\\n\u001b[39;00m\u001b[33mdescription: Aromas of tomato, herbs, plastic and berries are decent but minimal. This feels chunky due to modest acidity, while lightly baked, herbal plum and berry flavors are regular through the finish.\u001b[39m\u001b[38;5;130;01m\\n\u001b[39;00m\u001b[33mdesignation: \u001b[39m\u001b[38;5;130;01m\\n\u001b[39;00m\u001b[33mpoints: 86\u001b[39m\u001b[38;5;130;01m\\n\u001b[39;00m\u001b[33mprice: 13\u001b[39m\u001b[38;5;130;01m\\n\u001b[39;00m\u001b[33mprovince: Mendoza Province\u001b[39m\u001b[38;5;130;01m\\n\u001b[39;00m\u001b[33mregion_1: Mendoza\u001b[39m\u001b[38;5;130;01m\\n\u001b[39;00m\u001b[33mregion_2: \u001b[39m\u001b[38;5;130;01m\\n\u001b[39;00m\u001b[33mtaster_name: Michael Schachner\u001b[39m\u001b[38;5;130;01m\\n\u001b[39;00m\u001b[33mtaster_twitter_handle: @wineschach\u001b[39m\u001b[38;5;130;01m\\n\u001b[39;00m\u001b[33mtitle: Aymara 2016 Malbec (Mendoza)\u001b[39m\u001b[38;5;130;01m\\n\u001b[39;00m\u001b[33mvariety: Malbec\u001b[39m\u001b[38;5;130;01m\\n\u001b[39;00m\u001b[33mwinery: Aymara\u001b[39m\u001b[33m\"\u001b[39m}\n\u001b[32m      4\u001b[39m })\n",
      "\u001b[31mTypeError\u001b[39m: unhashable type: 'dict'"
     ]
    }
   ],
   "source": [
    "recommend_wine({\n",
    "{'food': '김치찌개는 한국의 전통적인 찌개 요리로, 주재료인 김치와 돼지고기, 두부, 양파, 대파 등을 함께 끓여 만듭니다. 김치찌개는 매콤하고 짭짤한 맛이 특징이며, 발효된 김치의 깊은 감칠맛과 돼지고기의 고소한 맛이 어우러져 진한 국물 맛을 냅니다. 또한, 두부와 야채들이 국물의 맛을 흡수하여 부드럽고 풍부한 식감을 제공합니다. 김치찌개는 밥과 함께 먹으면 더욱 맛있습니다',\n",
    " 'reviews': \"id: 42844\\ncountry: Argentina\\ndescription: Big, fresh, grapy aromas are the greeting on this nice but generic Malbec. The palate is plump and chunky yet bright and fruit-forward, with creamy flavors of dark plum and berry. A clean, focused, short finish functions as a good close.\\ndesignation: Estate Bottled\\npoints: 87\\nprice: 13\\nprovince: Mendoza Province\\nregion_1: Mendoza\\nregion_2: \\ntaster_name: Michael Schachner\\ntaster_twitter_handle: @wineschach\\ntitle: Pascual Toso 2012 Estate Bottled Malbec (Mendoza)\\nvariety: Malbec\\nwinery: Pascual Toso\\nid: 78334\\ncountry: US\\ndescription: Fruity, with pie-filling flavors of blackberries and cherries. Soft, too, with gentle tannins. It's a wine to drink now.\\ndesignation: \\npoints: 86\\nprice: 30\\nprovince: California\\nregion_1: Sonoma County\\nregion_2: Sonoma\\ntaster_name: \\ntaster_twitter_handle: \\ntitle: Magistrate 2007 Cabernet Sauvignon (Sonoma County)\\nvariety: Cabernet Sauvignon\\nwinery: Magistrate\\nid: 126108\\ncountry: France\\ndescription: Although it's very dry, this also has some toasty bottle age that softens the impact of its raw fruit flavor. It is taut, with a crisp apple-skin texture and considerable acidity, balanced by a yeasty character.\\ndesignation: Extra Brut\\npoints: 86\\nprice: \\nprovince: Champagne\\nregion_1: Champagne\\nregion_2: \\ntaster_name: Roger Voss\\ntaster_twitter_handle: @vossroger\\ntitle: Jacquart NV Extra Brut  (Champagne)\\nvariety: Champagne Blend\\nwinery: Jacquart\\nid: 24401\\ncountry: Argentina\\ndescription: Aromas of tomato, herbs, plastic and berries are decent but minimal. This feels chunky due to modest acidity, while lightly baked, herbal plum and berry flavors are regular through the finish.\\ndesignation: \\npoints: 86\\nprice: 13\\nprovince: Mendoza Province\\nregion_1: Mendoza\\nregion_2: \\ntaster_name: Michael Schachner\\ntaster_twitter_handle: @wineschach\\ntitle: Aymara 2016 Malbec (Mendoza)\\nvariety: Malbec\\nwinery: Aymara\"}\n",
    "})"
   ]
  },
  {
   "cell_type": "code",
   "execution_count": 32,
   "id": "449c7ca6",
   "metadata": {},
   "outputs": [
    {
     "data": {
      "text/plain": [
       "ChatPromptTemplate(input_variables=['food', 'reviews'], input_types={}, partial_variables={}, messages=[SystemMessagePromptTemplate(prompt=PromptTemplate(input_variables=['food', 'reviews'], input_types={}, partial_variables={}, template='\\nYou are ChatGPT, a professional sommelier who has gone through a rigorous training process step by step, driven by a deep curiosity about wine. You possess a keen sense of smell, a keen sense of exploration, and an awareness of the many details in wine.\\n\\nYour task is to accurately identify an appropriate wine pairing based on the provided food description in triple quotes. 대답은 한글로 해줘\\n\\n### Task Instructions:\\n\\n1. **Food Analysis**:\\n- Carefully read the food description provided within triple quotes.\\n- Identify key characteristics of the food, including flavors, textures, cooking methods, and any prominent ingredients.\\n\\n2. **Wine Review Analysis**:\\n- Carefully read the wine review and metadata provided within triple quotes.\\n- Identify key characteristics of the wine, including aroma, flavor, tannin structure, acidity, body, and finish.\\n\\n3. **Pairing Recommendation**:\\n- Recommend a specific wine (including grape variety, region of origin, and possible vintage) that pairs well with the described food.\\n- Explain why this wine is a suitable match for the food, taking into account factors such as acidity, tannin structure, body, and flavor profile.\\n\\n### Example:\\n\\n**Food**:\\n```Triple-cooked pork belly with a crispy skin, served with a tangy apple and fennel slaw, and a rich, savory jus.```\\n\\n**Wine Review**:\\n```\\nwinery: Barossa Valley Shiraz\\ndescription: This full-bodied Shiraz from Barossa Valley, Australia, boasts rich flavors of dark berries, black pepper, and a hint of vanilla. It has a robust tannin structure and a long, spicy finish.\\npoints: 92\\nprice: 30\\nvariety: Shiraz\\n```\\n\\n**Wine Pairing Recommendation**:\\n```A full-bodied red wine such as a Shiraz from Barossa Valley, Australia, would pair excellently with the triple-cooked pork belly. The wine’s robust tannins and dark fruit flavors will complement the rich, savory notes of the pork, while its hint of spice will enhance the tangy apple and fennel slaw. The acidity in the Shiraz will cut through the fat of the pork, creating a balanced and harmonious dining experience.```\\n\\n### Now, provide a food description in triple quotes for the system to recommend a wine pairing:\\n**Food**:\\n```\\n{food}\\n```\\n\\n**Wine Review**:\\n```\\n{reviews}\\n```\\n'), additional_kwargs={})])\n",
       "| ChatOpenAI(client=<openai.resources.chat.completions.completions.Completions object at 0x000001DD33452BD0>, async_client=<openai.resources.chat.completions.completions.AsyncCompletions object at 0x000001DD33453890>, root_client=<openai.OpenAI object at 0x000001DD32E672D0>, root_async_client=<openai.AsyncOpenAI object at 0x000001DD33448C50>, model_name='gpt-4o', temperature=0.0, model_kwargs={}, openai_api_key=SecretStr('**********'), max_tokens=4096)\n",
       "| StrOutputParser()"
      ]
     },
     "execution_count": 32,
     "metadata": {},
     "output_type": "execute_result"
    }
   ],
   "source": [
    "recommend_wine(test)"
   ]
  },
  {
   "cell_type": "code",
   "execution_count": 29,
   "id": "e5b79043",
   "metadata": {},
   "outputs": [
    {
     "ename": "NameError",
     "evalue": "name 'your_reviews_text' is not defined",
     "output_type": "error",
     "traceback": [
      "\u001b[31m---------------------------------------------------------------------------\u001b[39m",
      "\u001b[31mNameError\u001b[39m                                 Traceback (most recent call last)",
      "\u001b[36mCell\u001b[39m\u001b[36m \u001b[39m\u001b[32mIn[29]\u001b[39m\u001b[32m, line 3\u001b[39m\n\u001b[32m      1\u001b[39m recommend_wine({\n\u001b[32m      2\u001b[39m     \u001b[33m\"\u001b[39m\u001b[33mfood\u001b[39m\u001b[33m\"\u001b[39m: \u001b[33m\"\u001b[39m\u001b[33m매콤하고 진한 국물의 김치찌개, 돼지고기와 두부가 들어간 얼큰한 맛\u001b[39m\u001b[33m\"\u001b[39m,\n\u001b[32m----> \u001b[39m\u001b[32m3\u001b[39m     \u001b[33m\"\u001b[39m\u001b[33mreviews\u001b[39m\u001b[33m\"\u001b[39m: \u001b[43myour_reviews_text\u001b[49m  \u001b[38;5;66;03m# 여러 개의 wine review를 줄글로 넣기\u001b[39;00m\n\u001b[32m      4\u001b[39m })\n",
      "\u001b[31mNameError\u001b[39m: name 'your_reviews_text' is not defined"
     ]
    }
   ],
   "source": [
    "recommend_wine({\n",
    "    \"food\": \"매콤하고 진한 국물의 김치찌개, 돼지고기와 두부가 들어간 얼큰한 맛\",\n",
    "    \"reviews\": your_reviews_text  # 여러 개의 wine review를 줄글로 넣기\n",
    "})"
   ]
  },
  {
   "cell_type": "code",
   "execution_count": 35,
   "id": "36e2bb0c",
   "metadata": {},
   "outputs": [],
   "source": [
    "def recommend_wine_test(x):\n",
    "    prompt = ChatPromptTemplate.from_messages(\n",
    "        [\n",
    "            (\n",
    "                \"system\",\n",
    "                \"\"\"\n",
    "You are ChatGPT, a professional sommelier who has gone through a rigorous training process step by step, driven by a deep curiosity about wine. You possess a keen sense of smell, a keen sense of exploration, and an awareness of the many details in wine.\n",
    "\n",
    "Your task is to accurately identify an appropriate wine pairing based on the provided food description in triple quotes. 대답은 한글로 해줘\n",
    "\n",
    "### Task Instructions:\n",
    "\n",
    "1. **Food Analysis**:\n",
    "- Carefully read the food description provided within triple quotes.\n",
    "- Identify key characteristics of the food, including flavors, textures, cooking methods, and any prominent ingredients.\n",
    "\n",
    "2. **Wine Review Analysis**:\n",
    "- Carefully read the wine review and metadata provided within triple quotes.\n",
    "- Identify key characteristics of the wine, including aroma, flavor, tannin structure, acidity, body, and finish.\n",
    "\n",
    "3. **Pairing Recommendation**:\n",
    "- Recommend a specific wine (including grape variety, region of origin, and possible vintage) that pairs well with the described food.\n",
    "- Explain why this wine is a suitable match for the food, taking into account factors such as acidity, tannin structure, body, and flavor profile.\n",
    "\n",
    "### Example:\n",
    "\n",
    "**Food**:\n",
    "```Triple-cooked pork belly with a crispy skin, served with a tangy apple and fennel slaw, and a rich, savory jus.```\n",
    "\n",
    "**Wine Review**:\n",
    "```\n",
    "winery: Barossa Valley Shiraz\n",
    "description: This full-bodied Shiraz from Barossa Valley, Australia, boasts rich flavors of dark berries, black pepper, and a hint of vanilla. It has a robust tannin structure and a long, spicy finish.\n",
    "points: 92\n",
    "price: 30\n",
    "variety: Shiraz\n",
    "```\n",
    "\n",
    "**Wine Pairing Recommendation**:\n",
    "```A full-bodied red wine such as a Shiraz from Barossa Valley, Australia, would pair excellently with the triple-cooked pork belly. The wine’s robust tannins and dark fruit flavors will complement the rich, savory notes of the pork, while its hint of spice will enhance the tangy apple and fennel slaw. The acidity in the Shiraz will cut through the fat of the pork, creating a balanced and harmonious dining experience.```\n",
    "\n",
    "### Now, provide a food description in triple quotes for the system to recommend a wine pairing:\n",
    "**Food**:\n",
    "```\n",
    "{food}\n",
    "```\n",
    "\n",
    "**Wine Review**:\n",
    "```\n",
    "{reviews}\n",
    "```\n",
    "\"\"\",\n",
    "            ),\n",
    "        ]\n",
    "    )\n",
    "    chain = prompt | llm | StrOutputParser()\n",
    "    return chain.invoke(x)"
   ]
  },
  {
   "cell_type": "code",
   "execution_count": 36,
   "id": "0803a0c3",
   "metadata": {},
   "outputs": [
    {
     "data": {
      "text/plain": [
       "'**와인 페어링 추천**:\\n```김치찌개와 잘 어울리는 와인은 아르헨티나 멘도자 지역의 말벡입니다. 김치찌개의 매콤하고 짭짤한 맛과 발효된 김치의 깊은 감칠맛은 말벡의 풍부한 과일 향과 잘 어울립니다. 특히 Pascual Toso 2012 Estate Bottled Malbec은 신선한 포도 향과 다크 플럼, 베리의 크리미한 맛을 가지고 있어 김치찌개의 진한 국물 맛과 조화를 이룹니다. 또한, 이 와인의 밝고 과일 중심의 맛은 김치찌개의 매운맛을 부드럽게 해주며, 짧고 깔끔한 마무리는 식사의 끝을 깔끔하게 정리해줍니다.```'"
      ]
     },
     "execution_count": 36,
     "metadata": {},
     "output_type": "execute_result"
    }
   ],
   "source": [
    "recommend_wine_test(test)"
   ]
  },
  {
   "cell_type": "code",
   "execution_count": null,
   "id": "22176176",
   "metadata": {},
   "outputs": [],
   "source": []
  }
 ],
 "metadata": {
  "kernelspec": {
   "display_name": "venv",
   "language": "python",
   "name": "python3"
  },
  "language_info": {
   "codemirror_mode": {
    "name": "ipython",
    "version": 3
   },
   "file_extension": ".py",
   "mimetype": "text/x-python",
   "name": "python",
   "nbconvert_exporter": "python",
   "pygments_lexer": "ipython3",
   "version": "3.11.9"
  }
 },
 "nbformat": 4,
 "nbformat_minor": 5
}
